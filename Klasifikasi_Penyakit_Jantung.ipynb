{
  "cells": [
    {
      "cell_type": "code",
      "execution_count": 1,
      "metadata": {
        "colab": {
          "base_uri": "https://localhost:8080/"
        },
        "id": "gHvPpY4i1W3e",
        "outputId": "0bcf2a26-fac2-4c2a-9d72-9d1dd5e88b3f"
      },
      "outputs": [
        {
          "name": "stdout",
          "output_type": "stream",
          "text": [
            "Downloading heart-disease, 3478 bytes compressed\n",
            "\r[==================================================] 3478 bytes downloaded\n",
            "Downloaded and uncompressed: heart-disease\n",
            "Data source import complete.\n"
          ]
        }
      ],
      "source": [
        "\n",
        "# IMPORTANT: RUN THIS CELL IN ORDER TO IMPORT YOUR KAGGLE DATA SOURCES\n",
        "# TO THE CORRECT LOCATION (/kaggle/input) IN YOUR NOTEBOOK,\n",
        "# THEN FEEL FREE TO DELETE THIS CELL.\n",
        "# NOTE: THIS NOTEBOOK ENVIRONMENT DIFFERS FROM KAGGLE'S PYTHON\n",
        "# ENVIRONMENT SO THERE MAY BE MISSING LIBRARIES USED BY YOUR\n",
        "# NOTEBOOK.\n",
        "\n",
        "import os\n",
        "import sys\n",
        "from tempfile import NamedTemporaryFile\n",
        "from urllib.request import urlopen\n",
        "from urllib.parse import unquote, urlparse\n",
        "from urllib.error import HTTPError\n",
        "from zipfile import ZipFile\n",
        "import tarfile\n",
        "import shutil\n",
        "\n",
        "CHUNK_SIZE = 40960\n",
        "DATA_SOURCE_MAPPING = 'heart-disease:https%3A%2F%2Fstorage.googleapis.com%2Fkaggle-data-sets%2F1999259%2F3305270%2Fbundle%2Farchive.zip%3FX-Goog-Algorithm%3DGOOG4-RSA-SHA256%26X-Goog-Credential%3Dgcp-kaggle-com%2540kaggle-161607.iam.gserviceaccount.com%252F20240929%252Fauto%252Fstorage%252Fgoog4_request%26X-Goog-Date%3D20240929T081111Z%26X-Goog-Expires%3D259200%26X-Goog-SignedHeaders%3Dhost%26X-Goog-Signature%3Da7831c765de2558717c761db5c3d86e2a6fbaf8d5b729793d0149b23fb72704cb72ba5ac6e6ec2c41c6f94a53ebd6548e4b82530851905aabbed2e9f3d08f002fe740edeb88efd0b2f7ba2107afc8fdc67773c34cfdd3166b4620d21225bde3dcee9b77121e7f68ce464418872241050d71849f5c13ffd524da51767f79ffbee2cdb15fd5c52c7b218bbd64b0556a1cbffd5c94b28a83bb3ed6804d178ee6478f94dcf52d85ea9ad47971f4e73ad25fdac44593be4807e39c42fd1613e703bff852b177ead7c7592656afddb1c05372397cf9aec2df0dba83ae7bcd081a74d7ee9d2305df046ad824df2e855c82a99197d22c970b8280a01a396eb117668a568'\n",
        "\n",
        "KAGGLE_INPUT_PATH='/kaggle/input'\n",
        "KAGGLE_WORKING_PATH='/kaggle/working'\n",
        "KAGGLE_SYMLINK='kaggle'\n",
        "\n",
        "!umount /kaggle/input/ 2> /dev/null\n",
        "shutil.rmtree('/kaggle/input', ignore_errors=True)\n",
        "os.makedirs(KAGGLE_INPUT_PATH, 0o777, exist_ok=True)\n",
        "os.makedirs(KAGGLE_WORKING_PATH, 0o777, exist_ok=True)\n",
        "\n",
        "try:\n",
        "  os.symlink(KAGGLE_INPUT_PATH, os.path.join(\"..\", 'input'), target_is_directory=True)\n",
        "except FileExistsError:\n",
        "  pass\n",
        "try:\n",
        "  os.symlink(KAGGLE_WORKING_PATH, os.path.join(\"..\", 'working'), target_is_directory=True)\n",
        "except FileExistsError:\n",
        "  pass\n",
        "\n",
        "for data_source_mapping in DATA_SOURCE_MAPPING.split(','):\n",
        "    directory, download_url_encoded = data_source_mapping.split(':')\n",
        "    download_url = unquote(download_url_encoded)\n",
        "    filename = urlparse(download_url).path\n",
        "    destination_path = os.path.join(KAGGLE_INPUT_PATH, directory)\n",
        "    try:\n",
        "        with urlopen(download_url) as fileres, NamedTemporaryFile() as tfile:\n",
        "            total_length = fileres.headers['content-length']\n",
        "            print(f'Downloading {directory}, {total_length} bytes compressed')\n",
        "            dl = 0\n",
        "            data = fileres.read(CHUNK_SIZE)\n",
        "            while len(data) > 0:\n",
        "                dl += len(data)\n",
        "                tfile.write(data)\n",
        "                done = int(50 * dl / int(total_length))\n",
        "                sys.stdout.write(f\"\\r[{'=' * done}{' ' * (50-done)}] {dl} bytes downloaded\")\n",
        "                sys.stdout.flush()\n",
        "                data = fileres.read(CHUNK_SIZE)\n",
        "            if filename.endswith('.zip'):\n",
        "              with ZipFile(tfile) as zfile:\n",
        "                zfile.extractall(destination_path)\n",
        "            else:\n",
        "              with tarfile.open(tfile.name) as tarfile:\n",
        "                tarfile.extractall(destination_path)\n",
        "            print(f'\\nDownloaded and uncompressed: {directory}')\n",
        "    except HTTPError as e:\n",
        "        print(f'Failed to load (likely expired) {download_url} to path {destination_path}')\n",
        "        continue\n",
        "    except OSError as e:\n",
        "        print(f'Failed to load {download_url} to path {destination_path}')\n",
        "        continue\n",
        "\n",
        "print('Data source import complete.')\n"
      ]
    },
    {
      "cell_type": "markdown",
      "metadata": {
        "id": "wz7Z0ust1W3m"
      },
      "source": [
        "# Prediksi Penyakit Jantung Menggunakan Machine Learning\n",
        "\n",
        "## 1. Definisi Masalah\n",
        "\n",
        "Dalam kasus ini, masalah yang saya jelajahi adalah masalah klasifikasi biner.\n",
        "\n",
        "Saya akan mencari informasi dan memprediksi apakah seseorang memiliki penyakit jantung atau tidak.\n",
        "\n",
        "## 2. Data\n",
        "\n",
        "Data asli berasal dari database Cleveland dari UCI Machine Learning Repository.\n",
        "\n",
        "Database asli berisi 76 atribut, tetapi di sini hanya 14 atribut yang akan digunakan, atribut juga disebut fitur.\n",
        "\n",
        "Atribut dan fitur juga disebut sebagai variabel bebas dan variabel terikat, saya menggunakan variabel bebas untuk memprediksi variabel terikat.\n",
        "\n",
        "Dalam data ini, variabel bebas adalah atribut informasi pasien dan variabel terikat adalah apakah mereka memiliki penyakit jantung atau tidak.\n",
        "\n",
        "## 3. Evaluasi\n",
        "\n",
        "Matrik evaluasi adalah sesuatu yang biasanya ditentukan di awal proyek.\n",
        "\n",
        "Karena pembelajaran mesin sangat eksperimental, jadi dalam proyek ini saya harus mendapatkan akurasi minimal 85%.\n",
        "\n",
        "Karena sifatnya eksperimen, matrik evaluasi dapat berubah seiring waktu.\n",
        "\n",
        "\n",
        "## 4. Fitur\n",
        "\n",
        "Kamus data menjelaskan data yang saya hadapi. Seharusnya disini saya harus melakukan penelitian atau bertanya kepada ahli (seseorang yang tahu tentang data ini) untuk lebih lanjut.\n",
        "\n",
        "Berikut ini adalah fitur yang akan saya gunakan untuk memprediksi variabel target (penyakit jantung atau tidak ada penyakit jantung).\n",
        "\n",
        "1. age - Usia dalam tahun\n",
        "2. sex - (1 = male; 0 = female)\n",
        "3. cp - chest pain type\n",
        "    * 0: Typical angina: nyeri dada terkait mengurangi suplai darah ke jantung\n",
        "    * 1: Atypical angina: nyeri dada tidak berhubungan dengan jantung\n",
        "    * 2: Non-anginal pain: biasanya kejang esofagus (tidak berhubungan dengan jantung)\n",
        "    * 3: Asymptomatic: nyeri dada tidak menunjukkan tanda-tanda penyakit\n",
        "4. trestbps - mengistirahatkan tekanan darah (dalam mm Hg saat masuk ke rumah sakit\n",
        "    * di atas 130-140 biasanya memprihatinkan\n",
        "5. chol - serum cholestoral dalam mg/dl\n",
        "    * serum = LDL + HDL + .2 * triglycerides\n",
        "    * di atas 200 yang memprihatinkan\n",
        "6. fbs - (fasting blood sugar > 120 mg/dl) (1 = true; 0 = false)\n",
        "    * '>126' mg/dL signals diabetes\n",
        "7. restecg - resting electrocardiographic results\n",
        "    * 0: Tidak ada yang perlu diperhatikan\n",
        "    * 1: ST-T Wave abnormality\n",
        "        - dapat berkisar dari gejala ringan hingga masalah parah\n",
        "        - sinyal detak jantung yang tidak normal\n",
        "    * 2: Possible or definite left ventricular hypertrophy\n",
        "        - Ruang pompa utama jantung yang diperbesar\n",
        "8. thalach - denyut jantung maksimum tercapai\n",
        "9. exang - latihan diinduksi angina (1 = yes; 0 = no)\n",
        "10. oldpeak - Depresi ST yang disebabkan oleh olahraga relatif terhadap istirahat\n",
        "    * melihat stres jantung saat berolahraga\n",
        "    * jantung yang tidak sehat akan lebih stres\n",
        "11. slope - kemiringan segmen ST latihan puncak\n",
        "    * 0: Upsloping: detak jantung yang lebih baik dengan olahraga (tidak biasa)\n",
        "    * 1: Flatsloping: perubahan minimal (jantung sehat yang khas)\n",
        "    * 2: Downslopins: tanda-tanda jantung yang tidak sehat\n",
        "12. ca - jumlah pembuluh darah utama (0-3) diwarnai oleh flourosopy\n",
        "    * pembuluh berwarna berarti dokter dapat melihat darah yang melewatinya\n",
        "    * semakin banyak gerakan darah semakin baik (tidak ada gumpalan)\n",
        "13. thal - hasil stres thalium\n",
        "    * 1,3: normal\n",
        "    * 6: fixed defect: dulu cacat tapi sekarang baik-baik saja\n",
        "    * 7: reversable defect: tidak ada gerakan darah yang tepat saat berolahraga\n",
        "14. target - memiliki penyakit atau tidak (1=yes, 0=no) (= atribut yang diprediksi)"
      ]
    },
    {
      "cell_type": "markdown",
      "metadata": {
        "id": "FI94wflM1W3v"
      },
      "source": [
        "## Mempersiapkan alat"
      ]
    },
    {
      "cell_type": "code",
      "execution_count": 1,
      "metadata": {
        "colab": {
          "base_uri": "https://localhost:8080/",
          "height": 377
        },
        "execution": {
          "iopub.execute_input": "2022-09-02T10:40:45.301726Z",
          "iopub.status.busy": "2022-09-02T10:40:45.30131Z",
          "iopub.status.idle": "2022-09-02T10:40:45.312122Z",
          "shell.execute_reply": "2022-09-02T10:40:45.310943Z",
          "shell.execute_reply.started": "2022-09-02T10:40:45.301692Z"
        },
        "id": "-py-zqSB1W3w",
        "outputId": "4332f39c-9ad8-4ff2-e4b9-1a3a39ddb36b",
        "trusted": true
      },
      "outputs": [],
      "source": [
        "# EDA dan Plot library\n",
        "import numpy as np\n",
        "import pandas as pd\n",
        "import matplotlib.pyplot as plt\n",
        "import seaborn as sns\n",
        "\n",
        "# agar hasil visualisasi bisa langsung tercetak di Jupyter Notebook\n",
        "%matplotlib inline\n",
        "\n",
        "# Models\n",
        "from sklearn.linear_model import LogisticRegression\n",
        "from sklearn.neighbors import KNeighborsClassifier\n",
        "from sklearn.ensemble import RandomForestClassifier\n",
        "\n",
        "# Evaluasi Model\n",
        "from sklearn.model_selection import train_test_split, cross_val_score\n",
        "from sklearn.model_selection import RandomizedSearchCV, GridSearchCV\n",
        "from sklearn.metrics import confusion_matrix, classification_report\n",
        "from sklearn.metrics import precision_score, recall_score, f1_score\n",
        "from sklearn.metrics import RocCurveDisplay"
      ]
    },
    {
      "cell_type": "code",
      "execution_count": 4,
      "metadata": {
        "colab": {
          "base_uri": "https://localhost:8080/"
        },
        "execution": {
          "iopub.execute_input": "2022-09-02T10:40:45.316023Z",
          "iopub.status.busy": "2022-09-02T10:40:45.315589Z",
          "iopub.status.idle": "2022-09-02T10:40:45.329035Z",
          "shell.execute_reply": "2022-09-02T10:40:45.327673Z",
          "shell.execute_reply.started": "2022-09-02T10:40:45.315987Z"
        },
        "id": "JEn3zCPE1W3x",
        "outputId": "5717aa60-3070-4be0-dc6a-774e257c9ccc",
        "trusted": true
      },
      "outputs": [],
      "source": [
        "import os\n",
        "for dirname, _, filenames in os.walk('/kaggle/input'):\n",
        "    for filename in filenames:\n",
        "        print(os.path.join(dirname, filename))"
      ]
    },
    {
      "cell_type": "markdown",
      "metadata": {
        "id": "YhDRhmB61W3y"
      },
      "source": [
        "## Load data"
      ]
    },
    {
      "cell_type": "code",
      "execution_count": 6,
      "metadata": {
        "colab": {
          "base_uri": "https://localhost:8080/"
        },
        "execution": {
          "iopub.execute_input": "2022-09-02T10:40:45.331864Z",
          "iopub.status.busy": "2022-09-02T10:40:45.331052Z",
          "iopub.status.idle": "2022-09-02T10:40:45.35396Z",
          "shell.execute_reply": "2022-09-02T10:40:45.352717Z",
          "shell.execute_reply.started": "2022-09-02T10:40:45.331826Z"
        },
        "id": "UB8Y0CIe1W3z",
        "outputId": "96a4a7b0-1c1c-4fca-ed74-ab8fa5a111c1",
        "trusted": true
      },
      "outputs": [
        {
          "data": {
            "text/plain": [
              "(303, 14)"
            ]
          },
          "execution_count": 6,
          "metadata": {},
          "output_type": "execute_result"
        }
      ],
      "source": [
        "df = pd.read_csv(\"heart.csv\")\n",
        "df.shape"
      ]
    },
    {
      "cell_type": "markdown",
      "metadata": {
        "id": "dnKyMTlG1W31"
      },
      "source": [
        "## Data Exploration (exploratory data analysis or EDA)"
      ]
    },
    {
      "cell_type": "code",
      "execution_count": 7,
      "metadata": {
        "colab": {
          "base_uri": "https://localhost:8080/",
          "height": 206
        },
        "execution": {
          "iopub.execute_input": "2022-09-02T10:40:45.356614Z",
          "iopub.status.busy": "2022-09-02T10:40:45.355308Z",
          "iopub.status.idle": "2022-09-02T10:40:45.373516Z",
          "shell.execute_reply": "2022-09-02T10:40:45.372248Z",
          "shell.execute_reply.started": "2022-09-02T10:40:45.356579Z"
        },
        "id": "1G-0mYNU1W32",
        "outputId": "0ccb662a-88d4-4955-a204-252b66064b06",
        "trusted": true
      },
      "outputs": [
        {
          "data": {
            "text/html": [
              "<div>\n",
              "<style scoped>\n",
              "    .dataframe tbody tr th:only-of-type {\n",
              "        vertical-align: middle;\n",
              "    }\n",
              "\n",
              "    .dataframe tbody tr th {\n",
              "        vertical-align: top;\n",
              "    }\n",
              "\n",
              "    .dataframe thead th {\n",
              "        text-align: right;\n",
              "    }\n",
              "</style>\n",
              "<table border=\"1\" class=\"dataframe\">\n",
              "  <thead>\n",
              "    <tr style=\"text-align: right;\">\n",
              "      <th></th>\n",
              "      <th>age</th>\n",
              "      <th>sex</th>\n",
              "      <th>cp</th>\n",
              "      <th>trestbps</th>\n",
              "      <th>chol</th>\n",
              "      <th>fbs</th>\n",
              "      <th>restecg</th>\n",
              "      <th>thalach</th>\n",
              "      <th>exang</th>\n",
              "      <th>oldpeak</th>\n",
              "      <th>slope</th>\n",
              "      <th>ca</th>\n",
              "      <th>thal</th>\n",
              "      <th>target</th>\n",
              "    </tr>\n",
              "  </thead>\n",
              "  <tbody>\n",
              "    <tr>\n",
              "      <th>0</th>\n",
              "      <td>63</td>\n",
              "      <td>1</td>\n",
              "      <td>3</td>\n",
              "      <td>145</td>\n",
              "      <td>233</td>\n",
              "      <td>1</td>\n",
              "      <td>0</td>\n",
              "      <td>150</td>\n",
              "      <td>0</td>\n",
              "      <td>2.3</td>\n",
              "      <td>0</td>\n",
              "      <td>0</td>\n",
              "      <td>1</td>\n",
              "      <td>1</td>\n",
              "    </tr>\n",
              "    <tr>\n",
              "      <th>1</th>\n",
              "      <td>37</td>\n",
              "      <td>1</td>\n",
              "      <td>2</td>\n",
              "      <td>130</td>\n",
              "      <td>250</td>\n",
              "      <td>0</td>\n",
              "      <td>1</td>\n",
              "      <td>187</td>\n",
              "      <td>0</td>\n",
              "      <td>3.5</td>\n",
              "      <td>0</td>\n",
              "      <td>0</td>\n",
              "      <td>2</td>\n",
              "      <td>1</td>\n",
              "    </tr>\n",
              "    <tr>\n",
              "      <th>2</th>\n",
              "      <td>41</td>\n",
              "      <td>0</td>\n",
              "      <td>1</td>\n",
              "      <td>130</td>\n",
              "      <td>204</td>\n",
              "      <td>0</td>\n",
              "      <td>0</td>\n",
              "      <td>172</td>\n",
              "      <td>0</td>\n",
              "      <td>1.4</td>\n",
              "      <td>2</td>\n",
              "      <td>0</td>\n",
              "      <td>2</td>\n",
              "      <td>1</td>\n",
              "    </tr>\n",
              "    <tr>\n",
              "      <th>3</th>\n",
              "      <td>56</td>\n",
              "      <td>1</td>\n",
              "      <td>1</td>\n",
              "      <td>120</td>\n",
              "      <td>236</td>\n",
              "      <td>0</td>\n",
              "      <td>1</td>\n",
              "      <td>178</td>\n",
              "      <td>0</td>\n",
              "      <td>0.8</td>\n",
              "      <td>2</td>\n",
              "      <td>0</td>\n",
              "      <td>2</td>\n",
              "      <td>1</td>\n",
              "    </tr>\n",
              "    <tr>\n",
              "      <th>4</th>\n",
              "      <td>57</td>\n",
              "      <td>0</td>\n",
              "      <td>0</td>\n",
              "      <td>120</td>\n",
              "      <td>354</td>\n",
              "      <td>0</td>\n",
              "      <td>1</td>\n",
              "      <td>163</td>\n",
              "      <td>1</td>\n",
              "      <td>0.6</td>\n",
              "      <td>2</td>\n",
              "      <td>0</td>\n",
              "      <td>2</td>\n",
              "      <td>1</td>\n",
              "    </tr>\n",
              "  </tbody>\n",
              "</table>\n",
              "</div>"
            ],
            "text/plain": [
              "   age  sex  cp  trestbps  chol  fbs  restecg  thalach  exang  oldpeak  slope  \\\n",
              "0   63    1   3       145   233    1        0      150      0      2.3      0   \n",
              "1   37    1   2       130   250    0        1      187      0      3.5      0   \n",
              "2   41    0   1       130   204    0        0      172      0      1.4      2   \n",
              "3   56    1   1       120   236    0        1      178      0      0.8      2   \n",
              "4   57    0   0       120   354    0        1      163      1      0.6      2   \n",
              "\n",
              "   ca  thal  target  \n",
              "0   0     1       1  \n",
              "1   0     2       1  \n",
              "2   0     2       1  \n",
              "3   0     2       1  \n",
              "4   0     2       1  "
            ]
          },
          "execution_count": 7,
          "metadata": {},
          "output_type": "execute_result"
        }
      ],
      "source": [
        "df.head()"
      ]
    },
    {
      "cell_type": "code",
      "execution_count": 8,
      "metadata": {
        "colab": {
          "base_uri": "https://localhost:8080/",
          "height": 206
        },
        "execution": {
          "iopub.execute_input": "2022-09-02T10:40:45.377077Z",
          "iopub.status.busy": "2022-09-02T10:40:45.376563Z",
          "iopub.status.idle": "2022-09-02T10:40:45.394415Z",
          "shell.execute_reply": "2022-09-02T10:40:45.392684Z",
          "shell.execute_reply.started": "2022-09-02T10:40:45.377031Z"
        },
        "id": "_FJ2xcPZ1W33",
        "outputId": "12bd621a-d4fe-40fb-8190-0112a27da056",
        "trusted": true
      },
      "outputs": [
        {
          "data": {
            "text/html": [
              "<div>\n",
              "<style scoped>\n",
              "    .dataframe tbody tr th:only-of-type {\n",
              "        vertical-align: middle;\n",
              "    }\n",
              "\n",
              "    .dataframe tbody tr th {\n",
              "        vertical-align: top;\n",
              "    }\n",
              "\n",
              "    .dataframe thead th {\n",
              "        text-align: right;\n",
              "    }\n",
              "</style>\n",
              "<table border=\"1\" class=\"dataframe\">\n",
              "  <thead>\n",
              "    <tr style=\"text-align: right;\">\n",
              "      <th></th>\n",
              "      <th>age</th>\n",
              "      <th>sex</th>\n",
              "      <th>cp</th>\n",
              "      <th>trestbps</th>\n",
              "      <th>chol</th>\n",
              "      <th>fbs</th>\n",
              "      <th>restecg</th>\n",
              "      <th>thalach</th>\n",
              "      <th>exang</th>\n",
              "      <th>oldpeak</th>\n",
              "      <th>slope</th>\n",
              "      <th>ca</th>\n",
              "      <th>thal</th>\n",
              "      <th>target</th>\n",
              "    </tr>\n",
              "  </thead>\n",
              "  <tbody>\n",
              "    <tr>\n",
              "      <th>298</th>\n",
              "      <td>57</td>\n",
              "      <td>0</td>\n",
              "      <td>0</td>\n",
              "      <td>140</td>\n",
              "      <td>241</td>\n",
              "      <td>0</td>\n",
              "      <td>1</td>\n",
              "      <td>123</td>\n",
              "      <td>1</td>\n",
              "      <td>0.2</td>\n",
              "      <td>1</td>\n",
              "      <td>0</td>\n",
              "      <td>3</td>\n",
              "      <td>0</td>\n",
              "    </tr>\n",
              "    <tr>\n",
              "      <th>299</th>\n",
              "      <td>45</td>\n",
              "      <td>1</td>\n",
              "      <td>3</td>\n",
              "      <td>110</td>\n",
              "      <td>264</td>\n",
              "      <td>0</td>\n",
              "      <td>1</td>\n",
              "      <td>132</td>\n",
              "      <td>0</td>\n",
              "      <td>1.2</td>\n",
              "      <td>1</td>\n",
              "      <td>0</td>\n",
              "      <td>3</td>\n",
              "      <td>0</td>\n",
              "    </tr>\n",
              "    <tr>\n",
              "      <th>300</th>\n",
              "      <td>68</td>\n",
              "      <td>1</td>\n",
              "      <td>0</td>\n",
              "      <td>144</td>\n",
              "      <td>193</td>\n",
              "      <td>1</td>\n",
              "      <td>1</td>\n",
              "      <td>141</td>\n",
              "      <td>0</td>\n",
              "      <td>3.4</td>\n",
              "      <td>1</td>\n",
              "      <td>2</td>\n",
              "      <td>3</td>\n",
              "      <td>0</td>\n",
              "    </tr>\n",
              "    <tr>\n",
              "      <th>301</th>\n",
              "      <td>57</td>\n",
              "      <td>1</td>\n",
              "      <td>0</td>\n",
              "      <td>130</td>\n",
              "      <td>131</td>\n",
              "      <td>0</td>\n",
              "      <td>1</td>\n",
              "      <td>115</td>\n",
              "      <td>1</td>\n",
              "      <td>1.2</td>\n",
              "      <td>1</td>\n",
              "      <td>1</td>\n",
              "      <td>3</td>\n",
              "      <td>0</td>\n",
              "    </tr>\n",
              "    <tr>\n",
              "      <th>302</th>\n",
              "      <td>57</td>\n",
              "      <td>0</td>\n",
              "      <td>1</td>\n",
              "      <td>130</td>\n",
              "      <td>236</td>\n",
              "      <td>0</td>\n",
              "      <td>0</td>\n",
              "      <td>174</td>\n",
              "      <td>0</td>\n",
              "      <td>0.0</td>\n",
              "      <td>1</td>\n",
              "      <td>1</td>\n",
              "      <td>2</td>\n",
              "      <td>0</td>\n",
              "    </tr>\n",
              "  </tbody>\n",
              "</table>\n",
              "</div>"
            ],
            "text/plain": [
              "     age  sex  cp  trestbps  chol  fbs  restecg  thalach  exang  oldpeak  \\\n",
              "298   57    0   0       140   241    0        1      123      1      0.2   \n",
              "299   45    1   3       110   264    0        1      132      0      1.2   \n",
              "300   68    1   0       144   193    1        1      141      0      3.4   \n",
              "301   57    1   0       130   131    0        1      115      1      1.2   \n",
              "302   57    0   1       130   236    0        0      174      0      0.0   \n",
              "\n",
              "     slope  ca  thal  target  \n",
              "298      1   0     3       0  \n",
              "299      1   0     3       0  \n",
              "300      1   2     3       0  \n",
              "301      1   1     3       0  \n",
              "302      1   1     2       0  "
            ]
          },
          "execution_count": 8,
          "metadata": {},
          "output_type": "execute_result"
        }
      ],
      "source": [
        "df.tail()"
      ]
    },
    {
      "cell_type": "markdown",
      "metadata": {
        "id": "aHugTUAU1W37"
      },
      "source": [
        "## Frekuensi Jenis Kelamin"
      ]
    },
    {
      "cell_type": "code",
      "execution_count": 9,
      "metadata": {
        "colab": {
          "base_uri": "https://localhost:8080/",
          "height": 178
        },
        "execution": {
          "iopub.execute_input": "2022-09-02T10:40:45.396535Z",
          "iopub.status.busy": "2022-09-02T10:40:45.396163Z",
          "iopub.status.idle": "2022-09-02T10:40:45.405014Z",
          "shell.execute_reply": "2022-09-02T10:40:45.404105Z",
          "shell.execute_reply.started": "2022-09-02T10:40:45.396502Z"
        },
        "id": "hWEOqOdV1W37",
        "outputId": "5c86c93a-3acd-4421-f116-4a1b0a41a484",
        "trusted": true
      },
      "outputs": [
        {
          "data": {
            "text/plain": [
              "target\n",
              "0    138\n",
              "1    165\n",
              "Name: count, dtype: int64"
            ]
          },
          "execution_count": 9,
          "metadata": {},
          "output_type": "execute_result"
        }
      ],
      "source": [
        "# Cari tahu berapa banyak nilai dari target\n",
        "df[\"target\"].value_counts().sort_values(ascending=True)"
      ]
    },
    {
      "cell_type": "code",
      "execution_count": 10,
      "metadata": {
        "colab": {
          "base_uri": "https://localhost:8080/",
          "height": 564
        },
        "execution": {
          "iopub.execute_input": "2022-09-02T10:40:45.40669Z",
          "iopub.status.busy": "2022-09-02T10:40:45.406197Z",
          "iopub.status.idle": "2022-09-02T10:40:45.681209Z",
          "shell.execute_reply": "2022-09-02T10:40:45.679354Z",
          "shell.execute_reply.started": "2022-09-02T10:40:45.40666Z"
        },
        "id": "4B89jApa1W38",
        "outputId": "57105d28-8a54-411f-cf65-9035bc250992",
        "trusted": true
      },
      "outputs": [
        {
          "data": {
            "image/png": "[encoded data removed]",
            "text/plain": [
              "<Figure size 1000x600 with 1 Axes>"
            ]
          },
          "metadata": {},
          "output_type": "display_data"
        }
      ],
      "source": [
        "df[\"target\"].value_counts().sort_values(ascending=True).plot(kind=\"bar\", figsize=(10, 6), color=[\"salmon\", \"lightblue\"]);\n",
        "\n",
        "plt.title(\"Frekuensi Jenis Kelamin\")\n",
        "plt.xlabel(\"0 = Wanita, 1 = Pria\")\n",
        "plt.ylabel(\"Jumlah\")\n",
        "plt.xticks(rotation=0);\n"
      ]
    },
    {
      "cell_type": "code",
      "execution_count": 11,
      "metadata": {
        "colab": {
          "base_uri": "https://localhost:8080/"
        },
        "execution": {
          "iopub.execute_input": "2022-09-02T10:40:45.68422Z",
          "iopub.status.busy": "2022-09-02T10:40:45.682839Z",
          "iopub.status.idle": "2022-09-02T10:40:45.710492Z",
          "shell.execute_reply": "2022-09-02T10:40:45.708854Z",
          "shell.execute_reply.started": "2022-09-02T10:40:45.68417Z"
        },
        "id": "vsQM03Ey1W38",
        "outputId": "f93b970b-52e8-43af-c293-47812ba64a87",
        "trusted": true
      },
      "outputs": [
        {
          "name": "stdout",
          "output_type": "stream",
          "text": [
            "<class 'pandas.core.frame.DataFrame'>\n",
            "RangeIndex: 303 entries, 0 to 302\n",
            "Data columns (total 14 columns):\n",
            " #   Column    Non-Null Count  Dtype  \n",
            "---  ------    --------------  -----  \n",
            " 0   age       303 non-null    int64  \n",
            " 1   sex       303 non-null    int64  \n",
            " 2   cp        303 non-null    int64  \n",
            " 3   trestbps  303 non-null    int64  \n",
            " 4   chol      303 non-null    int64  \n",
            " 5   fbs       303 non-null    int64  \n",
            " 6   restecg   303 non-null    int64  \n",
            " 7   thalach   303 non-null    int64  \n",
            " 8   exang     303 non-null    int64  \n",
            " 9   oldpeak   303 non-null    float64\n",
            " 10  slope     303 non-null    int64  \n",
            " 11  ca        303 non-null    int64  \n",
            " 12  thal      303 non-null    int64  \n",
            " 13  target    303 non-null    int64  \n",
            "dtypes: float64(1), int64(13)\n",
            "memory usage: 33.3 KB\n"
          ]
        }
      ],
      "source": [
        "# melihat informasi dataset\n",
        "df.info()"
      ]
    },
    {
      "cell_type": "code",
      "execution_count": 12,
      "metadata": {
        "colab": {
          "base_uri": "https://localhost:8080/",
          "height": 522
        },
        "execution": {
          "iopub.execute_input": "2022-09-02T10:40:45.712904Z",
          "iopub.status.busy": "2022-09-02T10:40:45.71227Z",
          "iopub.status.idle": "2022-09-02T10:40:45.731465Z",
          "shell.execute_reply": "2022-09-02T10:40:45.729433Z",
          "shell.execute_reply.started": "2022-09-02T10:40:45.712868Z"
        },
        "id": "iH-0EoiV1W39",
        "outputId": "8a80777b-e9cc-494a-bbf9-3a7d4ef9aab9",
        "trusted": true
      },
      "outputs": [
        {
          "data": {
            "text/plain": [
              "age         0\n",
              "sex         0\n",
              "cp          0\n",
              "trestbps    0\n",
              "chol        0\n",
              "fbs         0\n",
              "restecg     0\n",
              "thalach     0\n",
              "exang       0\n",
              "oldpeak     0\n",
              "slope       0\n",
              "ca          0\n",
              "thal        0\n",
              "target      0\n",
              "dtype: int64"
            ]
          },
          "execution_count": 12,
          "metadata": {},
          "output_type": "execute_result"
        }
      ],
      "source": [
        "# melihat data yang hilang\n",
        "df.isna().sum()"
      ]
    },
    {
      "cell_type": "code",
      "execution_count": 13,
      "metadata": {
        "colab": {
          "base_uri": "https://localhost:8080/",
          "height": 320
        },
        "execution": {
          "iopub.execute_input": "2022-09-02T10:40:45.737152Z",
          "iopub.status.busy": "2022-09-02T10:40:45.735951Z",
          "iopub.status.idle": "2022-09-02T10:40:45.791674Z",
          "shell.execute_reply": "2022-09-02T10:40:45.790777Z",
          "shell.execute_reply.started": "2022-09-02T10:40:45.737098Z"
        },
        "id": "4TCVIP8q1W39",
        "outputId": "3692d7c2-039d-4551-ed54-dbbbb9663dc3",
        "trusted": true
      },
      "outputs": [
        {
          "data": {
            "text/html": [
              "<div>\n",
              "<style scoped>\n",
              "    .dataframe tbody tr th:only-of-type {\n",
              "        vertical-align: middle;\n",
              "    }\n",
              "\n",
              "    .dataframe tbody tr th {\n",
              "        vertical-align: top;\n",
              "    }\n",
              "\n",
              "    .dataframe thead th {\n",
              "        text-align: right;\n",
              "    }\n",
              "</style>\n",
              "<table border=\"1\" class=\"dataframe\">\n",
              "  <thead>\n",
              "    <tr style=\"text-align: right;\">\n",
              "      <th></th>\n",
              "      <th>age</th>\n",
              "      <th>sex</th>\n",
              "      <th>cp</th>\n",
              "      <th>trestbps</th>\n",
              "      <th>chol</th>\n",
              "      <th>fbs</th>\n",
              "      <th>restecg</th>\n",
              "      <th>thalach</th>\n",
              "      <th>exang</th>\n",
              "      <th>oldpeak</th>\n",
              "      <th>slope</th>\n",
              "      <th>ca</th>\n",
              "      <th>thal</th>\n",
              "      <th>target</th>\n",
              "    </tr>\n",
              "  </thead>\n",
              "  <tbody>\n",
              "    <tr>\n",
              "      <th>count</th>\n",
              "      <td>303.000000</td>\n",
              "      <td>303.000000</td>\n",
              "      <td>303.000000</td>\n",
              "      <td>303.000000</td>\n",
              "      <td>303.000000</td>\n",
              "      <td>303.000000</td>\n",
              "      <td>303.000000</td>\n",
              "      <td>303.000000</td>\n",
              "      <td>303.000000</td>\n",
              "      <td>303.000000</td>\n",
              "      <td>303.000000</td>\n",
              "      <td>303.000000</td>\n",
              "      <td>303.000000</td>\n",
              "      <td>303.000000</td>\n",
              "    </tr>\n",
              "    <tr>\n",
              "      <th>mean</th>\n",
              "      <td>54.366337</td>\n",
              "      <td>0.683168</td>\n",
              "      <td>0.966997</td>\n",
              "      <td>131.623762</td>\n",
              "      <td>246.264026</td>\n",
              "      <td>0.148515</td>\n",
              "      <td>0.528053</td>\n",
              "      <td>149.646865</td>\n",
              "      <td>0.326733</td>\n",
              "      <td>1.039604</td>\n",
              "      <td>1.399340</td>\n",
              "      <td>0.729373</td>\n",
              "      <td>2.313531</td>\n",
              "      <td>0.544554</td>\n",
              "    </tr>\n",
              "    <tr>\n",
              "      <th>std</th>\n",
              "      <td>9.082101</td>\n",
              "      <td>0.466011</td>\n",
              "      <td>1.032052</td>\n",
              "      <td>17.538143</td>\n",
              "      <td>51.830751</td>\n",
              "      <td>0.356198</td>\n",
              "      <td>0.525860</td>\n",
              "      <td>22.905161</td>\n",
              "      <td>0.469794</td>\n",
              "      <td>1.161075</td>\n",
              "      <td>0.616226</td>\n",
              "      <td>1.022606</td>\n",
              "      <td>0.612277</td>\n",
              "      <td>0.498835</td>\n",
              "    </tr>\n",
              "    <tr>\n",
              "      <th>min</th>\n",
              "      <td>29.000000</td>\n",
              "      <td>0.000000</td>\n",
              "      <td>0.000000</td>\n",
              "      <td>94.000000</td>\n",
              "      <td>126.000000</td>\n",
              "      <td>0.000000</td>\n",
              "      <td>0.000000</td>\n",
              "      <td>71.000000</td>\n",
              "      <td>0.000000</td>\n",
              "      <td>0.000000</td>\n",
              "      <td>0.000000</td>\n",
              "      <td>0.000000</td>\n",
              "      <td>0.000000</td>\n",
              "      <td>0.000000</td>\n",
              "    </tr>\n",
              "    <tr>\n",
              "      <th>25%</th>\n",
              "      <td>47.500000</td>\n",
              "      <td>0.000000</td>\n",
              "      <td>0.000000</td>\n",
              "      <td>120.000000</td>\n",
              "      <td>211.000000</td>\n",
              "      <td>0.000000</td>\n",
              "      <td>0.000000</td>\n",
              "      <td>133.500000</td>\n",
              "      <td>0.000000</td>\n",
              "      <td>0.000000</td>\n",
              "      <td>1.000000</td>\n",
              "      <td>0.000000</td>\n",
              "      <td>2.000000</td>\n",
              "      <td>0.000000</td>\n",
              "    </tr>\n",
              "    <tr>\n",
              "      <th>50%</th>\n",
              "      <td>55.000000</td>\n",
              "      <td>1.000000</td>\n",
              "      <td>1.000000</td>\n",
              "      <td>130.000000</td>\n",
              "      <td>240.000000</td>\n",
              "      <td>0.000000</td>\n",
              "      <td>1.000000</td>\n",
              "      <td>153.000000</td>\n",
              "      <td>0.000000</td>\n",
              "      <td>0.800000</td>\n",
              "      <td>1.000000</td>\n",
              "      <td>0.000000</td>\n",
              "      <td>2.000000</td>\n",
              "      <td>1.000000</td>\n",
              "    </tr>\n",
              "    <tr>\n",
              "      <th>75%</th>\n",
              "      <td>61.000000</td>\n",
              "      <td>1.000000</td>\n",
              "      <td>2.000000</td>\n",
              "      <td>140.000000</td>\n",
              "      <td>274.500000</td>\n",
              "      <td>0.000000</td>\n",
              "      <td>1.000000</td>\n",
              "      <td>166.000000</td>\n",
              "      <td>1.000000</td>\n",
              "      <td>1.600000</td>\n",
              "      <td>2.000000</td>\n",
              "      <td>1.000000</td>\n",
              "      <td>3.000000</td>\n",
              "      <td>1.000000</td>\n",
              "    </tr>\n",
              "    <tr>\n",
              "      <th>max</th>\n",
              "      <td>77.000000</td>\n",
              "      <td>1.000000</td>\n",
              "      <td>3.000000</td>\n",
              "      <td>200.000000</td>\n",
              "      <td>564.000000</td>\n",
              "      <td>1.000000</td>\n",
              "      <td>2.000000</td>\n",
              "      <td>202.000000</td>\n",
              "      <td>1.000000</td>\n",
              "      <td>6.200000</td>\n",
              "      <td>2.000000</td>\n",
              "      <td>4.000000</td>\n",
              "      <td>3.000000</td>\n",
              "      <td>1.000000</td>\n",
              "    </tr>\n",
              "  </tbody>\n",
              "</table>\n",
              "</div>"
            ],
            "text/plain": [
              "              age         sex          cp    trestbps        chol         fbs  \\\n",
              "count  303.000000  303.000000  303.000000  303.000000  303.000000  303.000000   \n",
              "mean    54.366337    0.683168    0.966997  131.623762  246.264026    0.148515   \n",
              "std      9.082101    0.466011    1.032052   17.538143   51.830751    0.356198   \n",
              "min     29.000000    0.000000    0.000000   94.000000  126.000000    0.000000   \n",
              "25%     47.500000    0.000000    0.000000  120.000000  211.000000    0.000000   \n",
              "50%     55.000000    1.000000    1.000000  130.000000  240.000000    0.000000   \n",
              "75%     61.000000    1.000000    2.000000  140.000000  274.500000    0.000000   \n",
              "max     77.000000    1.000000    3.000000  200.000000  564.000000    1.000000   \n",
              "\n",
              "          restecg     thalach       exang     oldpeak       slope          ca  \\\n",
              "count  303.000000  303.000000  303.000000  303.000000  303.000000  303.000000   \n",
              "mean     0.528053  149.646865    0.326733    1.039604    1.399340    0.729373   \n",
              "std      0.525860   22.905161    0.469794    1.161075    0.616226    1.022606   \n",
              "min      0.000000   71.000000    0.000000    0.000000    0.000000    0.000000   \n",
              "25%      0.000000  133.500000    0.000000    0.000000    1.000000    0.000000   \n",
              "50%      1.000000  153.000000    0.000000    0.800000    1.000000    0.000000   \n",
              "75%      1.000000  166.000000    1.000000    1.600000    2.000000    1.000000   \n",
              "max      2.000000  202.000000    1.000000    6.200000    2.000000    4.000000   \n",
              "\n",
              "             thal      target  \n",
              "count  303.000000  303.000000  \n",
              "mean     2.313531    0.544554  \n",
              "std      0.612277    0.498835  \n",
              "min      0.000000    0.000000  \n",
              "25%      2.000000    0.000000  \n",
              "50%      2.000000    1.000000  \n",
              "75%      3.000000    1.000000  \n",
              "max      3.000000    1.000000  "
            ]
          },
          "execution_count": 13,
          "metadata": {},
          "output_type": "execute_result"
        }
      ],
      "source": [
        "df.describe()"
      ]
    },
    {
      "cell_type": "markdown",
      "metadata": {
        "id": "qZNTE8mJ1W3-"
      },
      "source": [
        "## Frekuensi Penyakit Jantung dengan Jenis Kelamin"
      ]
    },
    {
      "cell_type": "code",
      "execution_count": 14,
      "metadata": {
        "colab": {
          "base_uri": "https://localhost:8080/",
          "height": 178
        },
        "execution": {
          "iopub.execute_input": "2022-09-02T10:40:45.794697Z",
          "iopub.status.busy": "2022-09-02T10:40:45.794145Z",
          "iopub.status.idle": "2022-09-02T10:40:45.80383Z",
          "shell.execute_reply": "2022-09-02T10:40:45.802669Z",
          "shell.execute_reply.started": "2022-09-02T10:40:45.79465Z"
        },
        "id": "YNWrRSHa1W3-",
        "outputId": "8a067473-9a45-4884-8af1-130e7f191c85",
        "trusted": true
      },
      "outputs": [
        {
          "data": {
            "text/plain": [
              "sex\n",
              "1    207\n",
              "0     96\n",
              "Name: count, dtype: int64"
            ]
          },
          "execution_count": 14,
          "metadata": {},
          "output_type": "execute_result"
        }
      ],
      "source": [
        "df.sex.value_counts()"
      ]
    },
    {
      "cell_type": "code",
      "execution_count": 15,
      "metadata": {
        "colab": {
          "base_uri": "https://localhost:8080/",
          "height": 143
        },
        "execution": {
          "iopub.execute_input": "2022-09-02T10:40:45.806186Z",
          "iopub.status.busy": "2022-09-02T10:40:45.805355Z",
          "iopub.status.idle": "2022-09-02T10:40:45.835646Z",
          "shell.execute_reply": "2022-09-02T10:40:45.834442Z",
          "shell.execute_reply.started": "2022-09-02T10:40:45.806073Z"
        },
        "id": "Xczv6jCB1W3-",
        "outputId": "c91d72e2-ca45-4fa5-cded-91429af37261",
        "trusted": true
      },
      "outputs": [
        {
          "data": {
            "text/html": [
              "<div>\n",
              "<style scoped>\n",
              "    .dataframe tbody tr th:only-of-type {\n",
              "        vertical-align: middle;\n",
              "    }\n",
              "\n",
              "    .dataframe tbody tr th {\n",
              "        vertical-align: top;\n",
              "    }\n",
              "\n",
              "    .dataframe thead th {\n",
              "        text-align: right;\n",
              "    }\n",
              "</style>\n",
              "<table border=\"1\" class=\"dataframe\">\n",
              "  <thead>\n",
              "    <tr style=\"text-align: right;\">\n",
              "      <th>sex</th>\n",
              "      <th>0</th>\n",
              "      <th>1</th>\n",
              "    </tr>\n",
              "    <tr>\n",
              "      <th>target</th>\n",
              "      <th></th>\n",
              "      <th></th>\n",
              "    </tr>\n",
              "  </thead>\n",
              "  <tbody>\n",
              "    <tr>\n",
              "      <th>0</th>\n",
              "      <td>24</td>\n",
              "      <td>114</td>\n",
              "    </tr>\n",
              "    <tr>\n",
              "      <th>1</th>\n",
              "      <td>72</td>\n",
              "      <td>93</td>\n",
              "    </tr>\n",
              "  </tbody>\n",
              "</table>\n",
              "</div>"
            ],
            "text/plain": [
              "sex      0    1\n",
              "target         \n",
              "0       24  114\n",
              "1       72   93"
            ]
          },
          "execution_count": 15,
          "metadata": {},
          "output_type": "execute_result"
        }
      ],
      "source": [
        "# bandingkan kolom target dengan sex\n",
        "pd.crosstab(df.target, df.sex)"
      ]
    },
    {
      "cell_type": "code",
      "execution_count": 16,
      "metadata": {
        "colab": {
          "base_uri": "https://localhost:8080/",
          "height": 564
        },
        "execution": {
          "iopub.execute_input": "2022-09-02T10:40:45.837668Z",
          "iopub.status.busy": "2022-09-02T10:40:45.837325Z",
          "iopub.status.idle": "2022-09-02T10:40:46.12045Z",
          "shell.execute_reply": "2022-09-02T10:40:46.119125Z",
          "shell.execute_reply.started": "2022-09-02T10:40:45.837638Z"
        },
        "id": "yRCPFxKA1W3-",
        "outputId": "8c1ab621-4d40-4332-a1fb-567225ab1214",
        "trusted": true
      },
      "outputs": [
        {
          "data": {
            "image/png": "[encoded data removed]",
            "text/plain": [
              "<Figure size 1000x600 with 1 Axes>"
            ]
          },
          "metadata": {},
          "output_type": "display_data"
        }
      ],
      "source": [
        "# membuat plot crosstab\n",
        "pd.crosstab(df.target, df.sex).plot(kind=\"bar\",\n",
        "                                    figsize=(10, 6),\n",
        "                                    color=[\"salmon\", \"lightblue\"]);\n",
        "\n",
        "plt.title(\"Frekuensi Penyakit Jantung dengan Jenis Kelamin\");\n",
        "plt.xlabel(\"0 = Tidak Sakit, 1 = Sakit\");\n",
        "plt.ylabel(\"Jumlah\");\n",
        "plt.legend([\"Wanita\", \"Pria\"]);\n",
        "plt.xticks(rotation=0);"
      ]
    },
    {
      "cell_type": "markdown",
      "metadata": {
        "id": "4yqg6f8B1W3-"
      },
      "source": [
        "Karena ada 96 pasien wanita dan 72 diantaranya memiliki nilai positif penyakit jantung, jika pasiennya adalah seorang wanita, ada kemungkinan 75% dia menderita penyakit jantung.\n",
        "\n",
        "Sedangkan untuk pasien pria, ada 207 hampir setengahnya 45% kemungkinan menunjukkan adanya penyakit jantung.\n",
        "\n",
        "Jadi dapat disimpulkan berdasarkan grafik di atas, kemungkinan seseorang terkena penyakit jantung adalah 59%."
      ]
    },
    {
      "cell_type": "markdown",
      "metadata": {
        "id": "46uCd7sQ1W3_"
      },
      "source": [
        "## Usia dan Denyut Jantung Maksimal"
      ]
    },
    {
      "cell_type": "code",
      "execution_count": 17,
      "metadata": {
        "colab": {
          "base_uri": "https://localhost:8080/",
          "height": 564
        },
        "execution": {
          "iopub.execute_input": "2022-09-02T10:40:46.123093Z",
          "iopub.status.busy": "2022-09-02T10:40:46.122022Z",
          "iopub.status.idle": "2022-09-02T10:40:46.504293Z",
          "shell.execute_reply": "2022-09-02T10:40:46.502874Z",
          "shell.execute_reply.started": "2022-09-02T10:40:46.123032Z"
        },
        "id": "IcFBBppN1W3_",
        "outputId": "5eb388df-6dda-455d-f9b1-1b43ad2a0635",
        "trusted": true
      },
      "outputs": [
        {
          "data": {
            "image/png": "[encoded data removed]",
            "text/plain": [
              "<Figure size 1000x600 with 1 Axes>"
            ]
          },
          "metadata": {},
          "output_type": "display_data"
        }
      ],
      "source": [
        "plt.figure(figsize=(10, 6))\n",
        "\n",
        "# scatter\n",
        "plt.scatter(df.age[df.target==1],\n",
        "            df.thalach[df.target==1],\n",
        "            c=\"salmon\")\n",
        "\n",
        "plt.scatter(df.age[df.target==0],\n",
        "            df.thalach[df.target==0],\n",
        "            c=\"lightblue\")\n",
        "\n",
        "plt.title(\"Penyakit Jantung dalam Usia dan Denyut Jantung Maksimal\")\n",
        "plt.xlabel(\"Umur\")\n",
        "plt.ylabel(\"Denyut Jantung Maksimal\")\n",
        "plt.legend([\"Sakit\", \"Tidak Sakit\"]);"
      ]
    },
    {
      "cell_type": "markdown",
      "metadata": {
        "id": "8sxpvBfz1W3_"
      },
      "source": [
        "Pada scatter plot diatas tampak semakin muda seseorang, semakin tinggi detak jantung maksimum mereka."
      ]
    },
    {
      "cell_type": "code",
      "execution_count": 18,
      "metadata": {
        "colab": {
          "base_uri": "https://localhost:8080/",
          "height": 430
        },
        "execution": {
          "iopub.execute_input": "2022-09-02T10:40:46.506226Z",
          "iopub.status.busy": "2022-09-02T10:40:46.505786Z",
          "iopub.status.idle": "2022-09-02T10:40:46.781453Z",
          "shell.execute_reply": "2022-09-02T10:40:46.780225Z",
          "shell.execute_reply.started": "2022-09-02T10:40:46.50619Z"
        },
        "id": "nE4P1HtA1W3_",
        "outputId": "034d073a-0cb5-4209-a18a-8cb4d642ac58",
        "trusted": true
      },
      "outputs": [
        {
          "data": {
            "image/png": "[encoded data removed]",
            "text/plain": [
              "<Figure size 640x480 with 1 Axes>"
            ]
          },
          "metadata": {},
          "output_type": "display_data"
        }
      ],
      "source": [
        "# cek distribusi kolom umur\n",
        "df.age.plot.hist();"
      ]
    },
    {
      "cell_type": "markdown",
      "metadata": {
        "id": "l3MIp_MI1W4A"
      },
      "source": [
        "Ini adalah distribusi normal tetapi sedikit bergeser kekanan."
      ]
    },
    {
      "cell_type": "markdown",
      "metadata": {
        "id": "tsH3Jd1M1W4A"
      },
      "source": [
        "## Frekuensi Penyakit Jantung per Jenis Nyeri Dada\n",
        "\n",
        "Mencoba variabel lain, kali ini nyeri dada (cp)"
      ]
    },
    {
      "cell_type": "code",
      "execution_count": 19,
      "metadata": {
        "colab": {
          "base_uri": "https://localhost:8080/",
          "height": 206
        },
        "execution": {
          "iopub.execute_input": "2022-09-02T10:40:46.784186Z",
          "iopub.status.busy": "2022-09-02T10:40:46.783382Z",
          "iopub.status.idle": "2022-09-02T10:40:46.806631Z",
          "shell.execute_reply": "2022-09-02T10:40:46.805826Z",
          "shell.execute_reply.started": "2022-09-02T10:40:46.784131Z"
        },
        "id": "c1lNSGIf1W4A",
        "outputId": "b4a23b1f-a86e-4467-f066-1f325e324983",
        "trusted": true
      },
      "outputs": [
        {
          "data": {
            "text/html": [
              "<div>\n",
              "<style scoped>\n",
              "    .dataframe tbody tr th:only-of-type {\n",
              "        vertical-align: middle;\n",
              "    }\n",
              "\n",
              "    .dataframe tbody tr th {\n",
              "        vertical-align: top;\n",
              "    }\n",
              "\n",
              "    .dataframe thead th {\n",
              "        text-align: right;\n",
              "    }\n",
              "</style>\n",
              "<table border=\"1\" class=\"dataframe\">\n",
              "  <thead>\n",
              "    <tr style=\"text-align: right;\">\n",
              "      <th>target</th>\n",
              "      <th>0</th>\n",
              "      <th>1</th>\n",
              "    </tr>\n",
              "    <tr>\n",
              "      <th>cp</th>\n",
              "      <th></th>\n",
              "      <th></th>\n",
              "    </tr>\n",
              "  </thead>\n",
              "  <tbody>\n",
              "    <tr>\n",
              "      <th>0</th>\n",
              "      <td>104</td>\n",
              "      <td>39</td>\n",
              "    </tr>\n",
              "    <tr>\n",
              "      <th>1</th>\n",
              "      <td>9</td>\n",
              "      <td>41</td>\n",
              "    </tr>\n",
              "    <tr>\n",
              "      <th>2</th>\n",
              "      <td>18</td>\n",
              "      <td>69</td>\n",
              "    </tr>\n",
              "    <tr>\n",
              "      <th>3</th>\n",
              "      <td>7</td>\n",
              "      <td>16</td>\n",
              "    </tr>\n",
              "  </tbody>\n",
              "</table>\n",
              "</div>"
            ],
            "text/plain": [
              "target    0   1\n",
              "cp             \n",
              "0       104  39\n",
              "1         9  41\n",
              "2        18  69\n",
              "3         7  16"
            ]
          },
          "execution_count": 19,
          "metadata": {},
          "output_type": "execute_result"
        }
      ],
      "source": [
        "pd.crosstab(df.cp, df.target)"
      ]
    },
    {
      "cell_type": "code",
      "execution_count": 20,
      "metadata": {
        "colab": {
          "base_uri": "https://localhost:8080/",
          "height": 564
        },
        "execution": {
          "iopub.execute_input": "2022-09-02T10:40:46.808815Z",
          "iopub.status.busy": "2022-09-02T10:40:46.808109Z",
          "iopub.status.idle": "2022-09-02T10:40:47.113408Z",
          "shell.execute_reply": "2022-09-02T10:40:47.111972Z",
          "shell.execute_reply.started": "2022-09-02T10:40:46.808771Z"
        },
        "id": "EnMyIy871W4A",
        "outputId": "8e86e122-9f05-4c11-d143-2a098649f385",
        "trusted": true
      },
      "outputs": [
        {
          "data": {
            "image/png": "[encoded data removed]",
            "text/plain": [
              "<Figure size 1000x600 with 1 Axes>"
            ]
          },
          "metadata": {},
          "output_type": "display_data"
        }
      ],
      "source": [
        "pd.crosstab(df.cp, df.target).plot(kind=\"bar\",\n",
        "                                   figsize=(10, 6),\n",
        "                                   color=[\"lightblue\", \"salmon\"])\n",
        "\n",
        "plt.title(\"Frekuensi Penyakit Jantung per Jenis Nyeri Dada\")\n",
        "plt.xlabel(\"Jenis Nyeri Dada\")\n",
        "plt.ylabel(\"Frekuensi\")\n",
        "plt.legend([\"Tidak Sakit\", \"Sakit\"])\n",
        "plt.xticks(rotation=0);"
      ]
    },
    {
      "cell_type": "markdown",
      "metadata": {
        "id": "w_lnAxa81W4A"
      },
      "source": [
        "**Kamus data**\n",
        "\n",
        "- cp - chest pain type\n",
        "    * 0: Typical angina: nyeri dada terkait mengurangi suplai darah ke jantung\n",
        "    * 1: Atypical angina: nyeri dada tidak berhubungan dengan jantung\n",
        "    * 2: Non-anginal pain: biasanya kejang esofagus (tidak berhubungan dengan jantung)\n",
        "    * 3: Asymptomatic: nyeri dada tidak menunjukkan tanda-tanda penyakit\n",
        "\n",
        "Bagian yang menarik disini, Atypical Angina(1) menyatakan itu tidak berhubungan dengan jantung tetapi tampaknya memiliki rasio yang lebih tinggi daripada Typical Angina(0) yang berhubungan dengan jantung.\n",
        "\n",
        "Jadi apa itu Atypical Angina?\n",
        "Pada kasus seperti ini penting untuk diingat, apabila kamus data tidak memberi informasi yang cukup, kita perlu melakukan penelitian lebih lanjut tentang ini. Kita bisa bertanya kepada ahlinya, tetapi karena ini hanya proyek latihan, saya mencoba memahaminya dengan mencari di Google."
      ]
    },
    {
      "cell_type": "markdown",
      "metadata": {
        "id": "SXpINItI1W4B"
      },
      "source": [
        "## Korelasi antara Variabel Bebas"
      ]
    },
    {
      "cell_type": "markdown",
      "metadata": {
        "id": "ThyHaTm21W4B"
      },
      "source": [
        "Tabel korelasi memberikan gambaran tentang variabel mana yang mungkin atau tidak berdampak pada variabel target."
      ]
    },
    {
      "cell_type": "code",
      "execution_count": 21,
      "metadata": {
        "colab": {
          "base_uri": "https://localhost:8080/",
          "height": 508
        },
        "execution": {
          "iopub.execute_input": "2022-09-02T10:40:47.115102Z",
          "iopub.status.busy": "2022-09-02T10:40:47.114768Z",
          "iopub.status.idle": "2022-09-02T10:40:47.140803Z",
          "shell.execute_reply": "2022-09-02T10:40:47.139562Z",
          "shell.execute_reply.started": "2022-09-02T10:40:47.115073Z"
        },
        "id": "Rh440JKh1W4B",
        "outputId": "9e7f2c33-3d9d-4180-d8e1-9b5a08731f8d",
        "trusted": true
      },
      "outputs": [
        {
          "data": {
            "text/html": [
              "<div>\n",
              "<style scoped>\n",
              "    .dataframe tbody tr th:only-of-type {\n",
              "        vertical-align: middle;\n",
              "    }\n",
              "\n",
              "    .dataframe tbody tr th {\n",
              "        vertical-align: top;\n",
              "    }\n",
              "\n",
              "    .dataframe thead th {\n",
              "        text-align: right;\n",
              "    }\n",
              "</style>\n",
              "<table border=\"1\" class=\"dataframe\">\n",
              "  <thead>\n",
              "    <tr style=\"text-align: right;\">\n",
              "      <th></th>\n",
              "      <th>age</th>\n",
              "      <th>sex</th>\n",
              "      <th>cp</th>\n",
              "      <th>trestbps</th>\n",
              "      <th>chol</th>\n",
              "      <th>fbs</th>\n",
              "      <th>restecg</th>\n",
              "      <th>thalach</th>\n",
              "      <th>exang</th>\n",
              "      <th>oldpeak</th>\n",
              "      <th>slope</th>\n",
              "      <th>ca</th>\n",
              "      <th>thal</th>\n",
              "      <th>target</th>\n",
              "    </tr>\n",
              "  </thead>\n",
              "  <tbody>\n",
              "    <tr>\n",
              "      <th>age</th>\n",
              "      <td>1.000000</td>\n",
              "      <td>-0.098447</td>\n",
              "      <td>-0.068653</td>\n",
              "      <td>0.279351</td>\n",
              "      <td>0.213678</td>\n",
              "      <td>0.121308</td>\n",
              "      <td>-0.116211</td>\n",
              "      <td>-0.398522</td>\n",
              "      <td>0.096801</td>\n",
              "      <td>0.210013</td>\n",
              "      <td>-0.168814</td>\n",
              "      <td>0.276326</td>\n",
              "      <td>0.068001</td>\n",
              "      <td>-0.225439</td>\n",
              "    </tr>\n",
              "    <tr>\n",
              "      <th>sex</th>\n",
              "      <td>-0.098447</td>\n",
              "      <td>1.000000</td>\n",
              "      <td>-0.049353</td>\n",
              "      <td>-0.056769</td>\n",
              "      <td>-0.197912</td>\n",
              "      <td>0.045032</td>\n",
              "      <td>-0.058196</td>\n",
              "      <td>-0.044020</td>\n",
              "      <td>0.141664</td>\n",
              "      <td>0.096093</td>\n",
              "      <td>-0.030711</td>\n",
              "      <td>0.118261</td>\n",
              "      <td>0.210041</td>\n",
              "      <td>-0.280937</td>\n",
              "    </tr>\n",
              "    <tr>\n",
              "      <th>cp</th>\n",
              "      <td>-0.068653</td>\n",
              "      <td>-0.049353</td>\n",
              "      <td>1.000000</td>\n",
              "      <td>0.047608</td>\n",
              "      <td>-0.076904</td>\n",
              "      <td>0.094444</td>\n",
              "      <td>0.044421</td>\n",
              "      <td>0.295762</td>\n",
              "      <td>-0.394280</td>\n",
              "      <td>-0.149230</td>\n",
              "      <td>0.119717</td>\n",
              "      <td>-0.181053</td>\n",
              "      <td>-0.161736</td>\n",
              "      <td>0.433798</td>\n",
              "    </tr>\n",
              "    <tr>\n",
              "      <th>trestbps</th>\n",
              "      <td>0.279351</td>\n",
              "      <td>-0.056769</td>\n",
              "      <td>0.047608</td>\n",
              "      <td>1.000000</td>\n",
              "      <td>0.123174</td>\n",
              "      <td>0.177531</td>\n",
              "      <td>-0.114103</td>\n",
              "      <td>-0.046698</td>\n",
              "      <td>0.067616</td>\n",
              "      <td>0.193216</td>\n",
              "      <td>-0.121475</td>\n",
              "      <td>0.101389</td>\n",
              "      <td>0.062210</td>\n",
              "      <td>-0.144931</td>\n",
              "    </tr>\n",
              "    <tr>\n",
              "      <th>chol</th>\n",
              "      <td>0.213678</td>\n",
              "      <td>-0.197912</td>\n",
              "      <td>-0.076904</td>\n",
              "      <td>0.123174</td>\n",
              "      <td>1.000000</td>\n",
              "      <td>0.013294</td>\n",
              "      <td>-0.151040</td>\n",
              "      <td>-0.009940</td>\n",
              "      <td>0.067023</td>\n",
              "      <td>0.053952</td>\n",
              "      <td>-0.004038</td>\n",
              "      <td>0.070511</td>\n",
              "      <td>0.098803</td>\n",
              "      <td>-0.085239</td>\n",
              "    </tr>\n",
              "    <tr>\n",
              "      <th>fbs</th>\n",
              "      <td>0.121308</td>\n",
              "      <td>0.045032</td>\n",
              "      <td>0.094444</td>\n",
              "      <td>0.177531</td>\n",
              "      <td>0.013294</td>\n",
              "      <td>1.000000</td>\n",
              "      <td>-0.084189</td>\n",
              "      <td>-0.008567</td>\n",
              "      <td>0.025665</td>\n",
              "      <td>0.005747</td>\n",
              "      <td>-0.059894</td>\n",
              "      <td>0.137979</td>\n",
              "      <td>-0.032019</td>\n",
              "      <td>-0.028046</td>\n",
              "    </tr>\n",
              "    <tr>\n",
              "      <th>restecg</th>\n",
              "      <td>-0.116211</td>\n",
              "      <td>-0.058196</td>\n",
              "      <td>0.044421</td>\n",
              "      <td>-0.114103</td>\n",
              "      <td>-0.151040</td>\n",
              "      <td>-0.084189</td>\n",
              "      <td>1.000000</td>\n",
              "      <td>0.044123</td>\n",
              "      <td>-0.070733</td>\n",
              "      <td>-0.058770</td>\n",
              "      <td>0.093045</td>\n",
              "      <td>-0.072042</td>\n",
              "      <td>-0.011981</td>\n",
              "      <td>0.137230</td>\n",
              "    </tr>\n",
              "    <tr>\n",
              "      <th>thalach</th>\n",
              "      <td>-0.398522</td>\n",
              "      <td>-0.044020</td>\n",
              "      <td>0.295762</td>\n",
              "      <td>-0.046698</td>\n",
              "      <td>-0.009940</td>\n",
              "      <td>-0.008567</td>\n",
              "      <td>0.044123</td>\n",
              "      <td>1.000000</td>\n",
              "      <td>-0.378812</td>\n",
              "      <td>-0.344187</td>\n",
              "      <td>0.386784</td>\n",
              "      <td>-0.213177</td>\n",
              "      <td>-0.096439</td>\n",
              "      <td>0.421741</td>\n",
              "    </tr>\n",
              "    <tr>\n",
              "      <th>exang</th>\n",
              "      <td>0.096801</td>\n",
              "      <td>0.141664</td>\n",
              "      <td>-0.394280</td>\n",
              "      <td>0.067616</td>\n",
              "      <td>0.067023</td>\n",
              "      <td>0.025665</td>\n",
              "      <td>-0.070733</td>\n",
              "      <td>-0.378812</td>\n",
              "      <td>1.000000</td>\n",
              "      <td>0.288223</td>\n",
              "      <td>-0.257748</td>\n",
              "      <td>0.115739</td>\n",
              "      <td>0.206754</td>\n",
              "      <td>-0.436757</td>\n",
              "    </tr>\n",
              "    <tr>\n",
              "      <th>oldpeak</th>\n",
              "      <td>0.210013</td>\n",
              "      <td>0.096093</td>\n",
              "      <td>-0.149230</td>\n",
              "      <td>0.193216</td>\n",
              "      <td>0.053952</td>\n",
              "      <td>0.005747</td>\n",
              "      <td>-0.058770</td>\n",
              "      <td>-0.344187</td>\n",
              "      <td>0.288223</td>\n",
              "      <td>1.000000</td>\n",
              "      <td>-0.577537</td>\n",
              "      <td>0.222682</td>\n",
              "      <td>0.210244</td>\n",
              "      <td>-0.430696</td>\n",
              "    </tr>\n",
              "    <tr>\n",
              "      <th>slope</th>\n",
              "      <td>-0.168814</td>\n",
              "      <td>-0.030711</td>\n",
              "      <td>0.119717</td>\n",
              "      <td>-0.121475</td>\n",
              "      <td>-0.004038</td>\n",
              "      <td>-0.059894</td>\n",
              "      <td>0.093045</td>\n",
              "      <td>0.386784</td>\n",
              "      <td>-0.257748</td>\n",
              "      <td>-0.577537</td>\n",
              "      <td>1.000000</td>\n",
              "      <td>-0.080155</td>\n",
              "      <td>-0.104764</td>\n",
              "      <td>0.345877</td>\n",
              "    </tr>\n",
              "    <tr>\n",
              "      <th>ca</th>\n",
              "      <td>0.276326</td>\n",
              "      <td>0.118261</td>\n",
              "      <td>-0.181053</td>\n",
              "      <td>0.101389</td>\n",
              "      <td>0.070511</td>\n",
              "      <td>0.137979</td>\n",
              "      <td>-0.072042</td>\n",
              "      <td>-0.213177</td>\n",
              "      <td>0.115739</td>\n",
              "      <td>0.222682</td>\n",
              "      <td>-0.080155</td>\n",
              "      <td>1.000000</td>\n",
              "      <td>0.151832</td>\n",
              "      <td>-0.391724</td>\n",
              "    </tr>\n",
              "    <tr>\n",
              "      <th>thal</th>\n",
              "      <td>0.068001</td>\n",
              "      <td>0.210041</td>\n",
              "      <td>-0.161736</td>\n",
              "      <td>0.062210</td>\n",
              "      <td>0.098803</td>\n",
              "      <td>-0.032019</td>\n",
              "      <td>-0.011981</td>\n",
              "      <td>-0.096439</td>\n",
              "      <td>0.206754</td>\n",
              "      <td>0.210244</td>\n",
              "      <td>-0.104764</td>\n",
              "      <td>0.151832</td>\n",
              "      <td>1.000000</td>\n",
              "      <td>-0.344029</td>\n",
              "    </tr>\n",
              "    <tr>\n",
              "      <th>target</th>\n",
              "      <td>-0.225439</td>\n",
              "      <td>-0.280937</td>\n",
              "      <td>0.433798</td>\n",
              "      <td>-0.144931</td>\n",
              "      <td>-0.085239</td>\n",
              "      <td>-0.028046</td>\n",
              "      <td>0.137230</td>\n",
              "      <td>0.421741</td>\n",
              "      <td>-0.436757</td>\n",
              "      <td>-0.430696</td>\n",
              "      <td>0.345877</td>\n",
              "      <td>-0.391724</td>\n",
              "      <td>-0.344029</td>\n",
              "      <td>1.000000</td>\n",
              "    </tr>\n",
              "  </tbody>\n",
              "</table>\n",
              "</div>"
            ],
            "text/plain": [
              "               age       sex        cp  trestbps      chol       fbs  \\\n",
              "age       1.000000 -0.098447 -0.068653  0.279351  0.213678  0.121308   \n",
              "sex      -0.098447  1.000000 -0.049353 -0.056769 -0.197912  0.045032   \n",
              "cp       -0.068653 -0.049353  1.000000  0.047608 -0.076904  0.094444   \n",
              "trestbps  0.279351 -0.056769  0.047608  1.000000  0.123174  0.177531   \n",
              "chol      0.213678 -0.197912 -0.076904  0.123174  1.000000  0.013294   \n",
              "fbs       0.121308  0.045032  0.094444  0.177531  0.013294  1.000000   \n",
              "restecg  -0.116211 -0.058196  0.044421 -0.114103 -0.151040 -0.084189   \n",
              "thalach  -0.398522 -0.044020  0.295762 -0.046698 -0.009940 -0.008567   \n",
              "exang     0.096801  0.141664 -0.394280  0.067616  0.067023  0.025665   \n",
              "oldpeak   0.210013  0.096093 -0.149230  0.193216  0.053952  0.005747   \n",
              "slope    -0.168814 -0.030711  0.119717 -0.121475 -0.004038 -0.059894   \n",
              "ca        0.276326  0.118261 -0.181053  0.101389  0.070511  0.137979   \n",
              "thal      0.068001  0.210041 -0.161736  0.062210  0.098803 -0.032019   \n",
              "target   -0.225439 -0.280937  0.433798 -0.144931 -0.085239 -0.028046   \n",
              "\n",
              "           restecg   thalach     exang   oldpeak     slope        ca  \\\n",
              "age      -0.116211 -0.398522  0.096801  0.210013 -0.168814  0.276326   \n",
              "sex      -0.058196 -0.044020  0.141664  0.096093 -0.030711  0.118261   \n",
              "cp        0.044421  0.295762 -0.394280 -0.149230  0.119717 -0.181053   \n",
              "trestbps -0.114103 -0.046698  0.067616  0.193216 -0.121475  0.101389   \n",
              "chol     -0.151040 -0.009940  0.067023  0.053952 -0.004038  0.070511   \n",
              "fbs      -0.084189 -0.008567  0.025665  0.005747 -0.059894  0.137979   \n",
              "restecg   1.000000  0.044123 -0.070733 -0.058770  0.093045 -0.072042   \n",
              "thalach   0.044123  1.000000 -0.378812 -0.344187  0.386784 -0.213177   \n",
              "exang    -0.070733 -0.378812  1.000000  0.288223 -0.257748  0.115739   \n",
              "oldpeak  -0.058770 -0.344187  0.288223  1.000000 -0.577537  0.222682   \n",
              "slope     0.093045  0.386784 -0.257748 -0.577537  1.000000 -0.080155   \n",
              "ca       -0.072042 -0.213177  0.115739  0.222682 -0.080155  1.000000   \n",
              "thal     -0.011981 -0.096439  0.206754  0.210244 -0.104764  0.151832   \n",
              "target    0.137230  0.421741 -0.436757 -0.430696  0.345877 -0.391724   \n",
              "\n",
              "              thal    target  \n",
              "age       0.068001 -0.225439  \n",
              "sex       0.210041 -0.280937  \n",
              "cp       -0.161736  0.433798  \n",
              "trestbps  0.062210 -0.144931  \n",
              "chol      0.098803 -0.085239  \n",
              "fbs      -0.032019 -0.028046  \n",
              "restecg  -0.011981  0.137230  \n",
              "thalach  -0.096439  0.421741  \n",
              "exang     0.206754 -0.436757  \n",
              "oldpeak   0.210244 -0.430696  \n",
              "slope    -0.104764  0.345877  \n",
              "ca        0.151832 -0.391724  \n",
              "thal      1.000000 -0.344029  \n",
              "target   -0.344029  1.000000  "
            ]
          },
          "execution_count": 21,
          "metadata": {},
          "output_type": "execute_result"
        }
      ],
      "source": [
        "corr_matrix = df.corr()\n",
        "corr_matrix"
      ]
    },
    {
      "cell_type": "code",
      "execution_count": 22,
      "metadata": {
        "colab": {
          "base_uri": "https://localhost:8080/",
          "height": 783
        },
        "execution": {
          "iopub.execute_input": "2022-09-02T10:40:47.142611Z",
          "iopub.status.busy": "2022-09-02T10:40:47.142241Z",
          "iopub.status.idle": "2022-09-02T10:40:48.533782Z",
          "shell.execute_reply": "2022-09-02T10:40:48.532173Z",
          "shell.execute_reply.started": "2022-09-02T10:40:47.142578Z"
        },
        "id": "qAZH20dZ1W4C",
        "outputId": "3840e122-c9c6-4c9c-b577-a8edca629c84",
        "trusted": true
      },
      "outputs": [
        {
          "data": {
            "image/png": "[encoded data removed]",
            "text/plain": [
              "<Figure size 1500x1000 with 2 Axes>"
            ]
          },
          "metadata": {},
          "output_type": "display_data"
        }
      ],
      "source": [
        "corr_matrix = df.corr()\n",
        "plt.figure(figsize=(15,10))\n",
        "sns.heatmap(corr_matrix,\n",
        "            annot=True,\n",
        "            linewidth=5,\n",
        "            fmt=\".2f\",\n",
        "            cmap=\"YlGnBu\");"
      ]
    },
    {
      "cell_type": "markdown",
      "metadata": {
        "id": "qDh2Vb8x1W4C"
      },
      "source": [
        "Koefisien korelasi bernilai negatif, berarti hubungan antara kedua variabel tersebut negatif atau saling berbanding terbalik. Koefisien korelasi bernilai positif, berarti hubungan antara kedua variabel tersebut positif atau saling berbanding lurus."
      ]
    },
    {
      "cell_type": "markdown",
      "metadata": {
        "id": "Zjw9R5rE1W4C"
      },
      "source": [
        "## Pemodelan"
      ]
    },
    {
      "cell_type": "code",
      "execution_count": 23,
      "metadata": {
        "colab": {
          "base_uri": "https://localhost:8080/",
          "height": 206
        },
        "execution": {
          "iopub.execute_input": "2022-09-02T10:40:48.53572Z",
          "iopub.status.busy": "2022-09-02T10:40:48.535354Z",
          "iopub.status.idle": "2022-09-02T10:40:48.553545Z",
          "shell.execute_reply": "2022-09-02T10:40:48.552131Z",
          "shell.execute_reply.started": "2022-09-02T10:40:48.535686Z"
        },
        "id": "8U4h6yJR1W4D",
        "outputId": "857745e7-2183-44da-8f72-02dbc48587a2",
        "trusted": true
      },
      "outputs": [
        {
          "data": {
            "text/html": [
              "<div>\n",
              "<style scoped>\n",
              "    .dataframe tbody tr th:only-of-type {\n",
              "        vertical-align: middle;\n",
              "    }\n",
              "\n",
              "    .dataframe tbody tr th {\n",
              "        vertical-align: top;\n",
              "    }\n",
              "\n",
              "    .dataframe thead th {\n",
              "        text-align: right;\n",
              "    }\n",
              "</style>\n",
              "<table border=\"1\" class=\"dataframe\">\n",
              "  <thead>\n",
              "    <tr style=\"text-align: right;\">\n",
              "      <th></th>\n",
              "      <th>age</th>\n",
              "      <th>sex</th>\n",
              "      <th>cp</th>\n",
              "      <th>trestbps</th>\n",
              "      <th>chol</th>\n",
              "      <th>fbs</th>\n",
              "      <th>restecg</th>\n",
              "      <th>thalach</th>\n",
              "      <th>exang</th>\n",
              "      <th>oldpeak</th>\n",
              "      <th>slope</th>\n",
              "      <th>ca</th>\n",
              "      <th>thal</th>\n",
              "      <th>target</th>\n",
              "    </tr>\n",
              "  </thead>\n",
              "  <tbody>\n",
              "    <tr>\n",
              "      <th>0</th>\n",
              "      <td>63</td>\n",
              "      <td>1</td>\n",
              "      <td>3</td>\n",
              "      <td>145</td>\n",
              "      <td>233</td>\n",
              "      <td>1</td>\n",
              "      <td>0</td>\n",
              "      <td>150</td>\n",
              "      <td>0</td>\n",
              "      <td>2.3</td>\n",
              "      <td>0</td>\n",
              "      <td>0</td>\n",
              "      <td>1</td>\n",
              "      <td>1</td>\n",
              "    </tr>\n",
              "    <tr>\n",
              "      <th>1</th>\n",
              "      <td>37</td>\n",
              "      <td>1</td>\n",
              "      <td>2</td>\n",
              "      <td>130</td>\n",
              "      <td>250</td>\n",
              "      <td>0</td>\n",
              "      <td>1</td>\n",
              "      <td>187</td>\n",
              "      <td>0</td>\n",
              "      <td>3.5</td>\n",
              "      <td>0</td>\n",
              "      <td>0</td>\n",
              "      <td>2</td>\n",
              "      <td>1</td>\n",
              "    </tr>\n",
              "    <tr>\n",
              "      <th>2</th>\n",
              "      <td>41</td>\n",
              "      <td>0</td>\n",
              "      <td>1</td>\n",
              "      <td>130</td>\n",
              "      <td>204</td>\n",
              "      <td>0</td>\n",
              "      <td>0</td>\n",
              "      <td>172</td>\n",
              "      <td>0</td>\n",
              "      <td>1.4</td>\n",
              "      <td>2</td>\n",
              "      <td>0</td>\n",
              "      <td>2</td>\n",
              "      <td>1</td>\n",
              "    </tr>\n",
              "    <tr>\n",
              "      <th>3</th>\n",
              "      <td>56</td>\n",
              "      <td>1</td>\n",
              "      <td>1</td>\n",
              "      <td>120</td>\n",
              "      <td>236</td>\n",
              "      <td>0</td>\n",
              "      <td>1</td>\n",
              "      <td>178</td>\n",
              "      <td>0</td>\n",
              "      <td>0.8</td>\n",
              "      <td>2</td>\n",
              "      <td>0</td>\n",
              "      <td>2</td>\n",
              "      <td>1</td>\n",
              "    </tr>\n",
              "    <tr>\n",
              "      <th>4</th>\n",
              "      <td>57</td>\n",
              "      <td>0</td>\n",
              "      <td>0</td>\n",
              "      <td>120</td>\n",
              "      <td>354</td>\n",
              "      <td>0</td>\n",
              "      <td>1</td>\n",
              "      <td>163</td>\n",
              "      <td>1</td>\n",
              "      <td>0.6</td>\n",
              "      <td>2</td>\n",
              "      <td>0</td>\n",
              "      <td>2</td>\n",
              "      <td>1</td>\n",
              "    </tr>\n",
              "  </tbody>\n",
              "</table>\n",
              "</div>"
            ],
            "text/plain": [
              "   age  sex  cp  trestbps  chol  fbs  restecg  thalach  exang  oldpeak  slope  \\\n",
              "0   63    1   3       145   233    1        0      150      0      2.3      0   \n",
              "1   37    1   2       130   250    0        1      187      0      3.5      0   \n",
              "2   41    0   1       130   204    0        0      172      0      1.4      2   \n",
              "3   56    1   1       120   236    0        1      178      0      0.8      2   \n",
              "4   57    0   0       120   354    0        1      163      1      0.6      2   \n",
              "\n",
              "   ca  thal  target  \n",
              "0   0     1       1  \n",
              "1   0     2       1  \n",
              "2   0     2       1  \n",
              "3   0     2       1  \n",
              "4   0     2       1  "
            ]
          },
          "execution_count": 23,
          "metadata": {},
          "output_type": "execute_result"
        }
      ],
      "source": [
        "df.head()"
      ]
    },
    {
      "cell_type": "code",
      "execution_count": 24,
      "metadata": {
        "colab": {
          "base_uri": "https://localhost:8080/",
          "height": 206
        },
        "execution": {
          "iopub.execute_input": "2022-09-02T10:40:48.556209Z",
          "iopub.status.busy": "2022-09-02T10:40:48.555545Z",
          "iopub.status.idle": "2022-09-02T10:40:48.57717Z",
          "shell.execute_reply": "2022-09-02T10:40:48.575872Z",
          "shell.execute_reply.started": "2022-09-02T10:40:48.556158Z"
        },
        "id": "fmzKrdGe1W4D",
        "outputId": "277ac8d0-04d7-42ef-815a-38fc0ecaa73e",
        "trusted": true
      },
      "outputs": [
        {
          "data": {
            "text/html": [
              "<div>\n",
              "<style scoped>\n",
              "    .dataframe tbody tr th:only-of-type {\n",
              "        vertical-align: middle;\n",
              "    }\n",
              "\n",
              "    .dataframe tbody tr th {\n",
              "        vertical-align: top;\n",
              "    }\n",
              "\n",
              "    .dataframe thead th {\n",
              "        text-align: right;\n",
              "    }\n",
              "</style>\n",
              "<table border=\"1\" class=\"dataframe\">\n",
              "  <thead>\n",
              "    <tr style=\"text-align: right;\">\n",
              "      <th></th>\n",
              "      <th>age</th>\n",
              "      <th>sex</th>\n",
              "      <th>cp</th>\n",
              "      <th>trestbps</th>\n",
              "      <th>chol</th>\n",
              "      <th>fbs</th>\n",
              "      <th>restecg</th>\n",
              "      <th>thalach</th>\n",
              "      <th>exang</th>\n",
              "      <th>oldpeak</th>\n",
              "      <th>slope</th>\n",
              "      <th>ca</th>\n",
              "      <th>thal</th>\n",
              "    </tr>\n",
              "  </thead>\n",
              "  <tbody>\n",
              "    <tr>\n",
              "      <th>0</th>\n",
              "      <td>63</td>\n",
              "      <td>1</td>\n",
              "      <td>3</td>\n",
              "      <td>145</td>\n",
              "      <td>233</td>\n",
              "      <td>1</td>\n",
              "      <td>0</td>\n",
              "      <td>150</td>\n",
              "      <td>0</td>\n",
              "      <td>2.3</td>\n",
              "      <td>0</td>\n",
              "      <td>0</td>\n",
              "      <td>1</td>\n",
              "    </tr>\n",
              "    <tr>\n",
              "      <th>1</th>\n",
              "      <td>37</td>\n",
              "      <td>1</td>\n",
              "      <td>2</td>\n",
              "      <td>130</td>\n",
              "      <td>250</td>\n",
              "      <td>0</td>\n",
              "      <td>1</td>\n",
              "      <td>187</td>\n",
              "      <td>0</td>\n",
              "      <td>3.5</td>\n",
              "      <td>0</td>\n",
              "      <td>0</td>\n",
              "      <td>2</td>\n",
              "    </tr>\n",
              "    <tr>\n",
              "      <th>2</th>\n",
              "      <td>41</td>\n",
              "      <td>0</td>\n",
              "      <td>1</td>\n",
              "      <td>130</td>\n",
              "      <td>204</td>\n",
              "      <td>0</td>\n",
              "      <td>0</td>\n",
              "      <td>172</td>\n",
              "      <td>0</td>\n",
              "      <td>1.4</td>\n",
              "      <td>2</td>\n",
              "      <td>0</td>\n",
              "      <td>2</td>\n",
              "    </tr>\n",
              "    <tr>\n",
              "      <th>3</th>\n",
              "      <td>56</td>\n",
              "      <td>1</td>\n",
              "      <td>1</td>\n",
              "      <td>120</td>\n",
              "      <td>236</td>\n",
              "      <td>0</td>\n",
              "      <td>1</td>\n",
              "      <td>178</td>\n",
              "      <td>0</td>\n",
              "      <td>0.8</td>\n",
              "      <td>2</td>\n",
              "      <td>0</td>\n",
              "      <td>2</td>\n",
              "    </tr>\n",
              "    <tr>\n",
              "      <th>4</th>\n",
              "      <td>57</td>\n",
              "      <td>0</td>\n",
              "      <td>0</td>\n",
              "      <td>120</td>\n",
              "      <td>354</td>\n",
              "      <td>0</td>\n",
              "      <td>1</td>\n",
              "      <td>163</td>\n",
              "      <td>1</td>\n",
              "      <td>0.6</td>\n",
              "      <td>2</td>\n",
              "      <td>0</td>\n",
              "      <td>2</td>\n",
              "    </tr>\n",
              "  </tbody>\n",
              "</table>\n",
              "</div>"
            ],
            "text/plain": [
              "   age  sex  cp  trestbps  chol  fbs  restecg  thalach  exang  oldpeak  slope  \\\n",
              "0   63    1   3       145   233    1        0      150      0      2.3      0   \n",
              "1   37    1   2       130   250    0        1      187      0      3.5      0   \n",
              "2   41    0   1       130   204    0        0      172      0      1.4      2   \n",
              "3   56    1   1       120   236    0        1      178      0      0.8      2   \n",
              "4   57    0   0       120   354    0        1      163      1      0.6      2   \n",
              "\n",
              "   ca  thal  \n",
              "0   0     1  \n",
              "1   0     2  \n",
              "2   0     2  \n",
              "3   0     2  \n",
              "4   0     2  "
            ]
          },
          "execution_count": 24,
          "metadata": {},
          "output_type": "execute_result"
        }
      ],
      "source": [
        "# Variabel bebas\n",
        "X = df.drop(\"target\", axis=1)\n",
        "X.head()"
      ]
    },
    {
      "cell_type": "code",
      "execution_count": 25,
      "metadata": {
        "colab": {
          "base_uri": "https://localhost:8080/"
        },
        "execution": {
          "iopub.execute_input": "2022-09-02T10:40:48.584234Z",
          "iopub.status.busy": "2022-09-02T10:40:48.583557Z",
          "iopub.status.idle": "2022-09-02T10:40:48.592969Z",
          "shell.execute_reply": "2022-09-02T10:40:48.591735Z",
          "shell.execute_reply.started": "2022-09-02T10:40:48.584193Z"
        },
        "id": "Q8LUhPJa1W4D",
        "outputId": "05b2136f-b845-40fb-e705-814f62665e21",
        "trusted": true
      },
      "outputs": [
        {
          "data": {
            "text/plain": [
              "array([1, 1, 1, 1, 1, 1, 1, 1, 1, 1, 1, 1, 1, 1, 1, 1, 1, 1, 1, 1, 1, 1,\n",
              "       1, 1, 1, 1, 1, 1, 1, 1, 1, 1, 1, 1, 1, 1, 1, 1, 1, 1, 1, 1, 1, 1,\n",
              "       1, 1, 1, 1, 1, 1, 1, 1, 1, 1, 1, 1, 1, 1, 1, 1, 1, 1, 1, 1, 1, 1,\n",
              "       1, 1, 1, 1, 1, 1, 1, 1, 1, 1, 1, 1, 1, 1, 1, 1, 1, 1, 1, 1, 1, 1,\n",
              "       1, 1, 1, 1, 1, 1, 1, 1, 1, 1, 1, 1, 1, 1, 1, 1, 1, 1, 1, 1, 1, 1,\n",
              "       1, 1, 1, 1, 1, 1, 1, 1, 1, 1, 1, 1, 1, 1, 1, 1, 1, 1, 1, 1, 1, 1,\n",
              "       1, 1, 1, 1, 1, 1, 1, 1, 1, 1, 1, 1, 1, 1, 1, 1, 1, 1, 1, 1, 1, 1,\n",
              "       1, 1, 1, 1, 1, 1, 1, 1, 1, 1, 1, 0, 0, 0, 0, 0, 0, 0, 0, 0, 0, 0,\n",
              "       0, 0, 0, 0, 0, 0, 0, 0, 0, 0, 0, 0, 0, 0, 0, 0, 0, 0, 0, 0, 0, 0,\n",
              "       0, 0, 0, 0, 0, 0, 0, 0, 0, 0, 0, 0, 0, 0, 0, 0, 0, 0, 0, 0, 0, 0,\n",
              "       0, 0, 0, 0, 0, 0, 0, 0, 0, 0, 0, 0, 0, 0, 0, 0, 0, 0, 0, 0, 0, 0,\n",
              "       0, 0, 0, 0, 0, 0, 0, 0, 0, 0, 0, 0, 0, 0, 0, 0, 0, 0, 0, 0, 0, 0,\n",
              "       0, 0, 0, 0, 0, 0, 0, 0, 0, 0, 0, 0, 0, 0, 0, 0, 0, 0, 0, 0, 0, 0,\n",
              "       0, 0, 0, 0, 0, 0, 0, 0, 0, 0, 0, 0, 0, 0, 0, 0, 0])"
            ]
          },
          "execution_count": 25,
          "metadata": {},
          "output_type": "execute_result"
        }
      ],
      "source": [
        "# Variabel terikat\n",
        "y = df.target.values\n",
        "y"
      ]
    },
    {
      "cell_type": "markdown",
      "metadata": {
        "id": "Ynfzb13q1W4N"
      },
      "source": [
        "## Split Data"
      ]
    },
    {
      "cell_type": "code",
      "execution_count": 26,
      "metadata": {
        "execution": {
          "iopub.execute_input": "2022-09-02T10:40:48.59487Z",
          "iopub.status.busy": "2022-09-02T10:40:48.594472Z",
          "iopub.status.idle": "2022-09-02T10:40:48.604655Z",
          "shell.execute_reply": "2022-09-02T10:40:48.603415Z",
          "shell.execute_reply.started": "2022-09-02T10:40:48.594834Z"
        },
        "id": "9JoYh8pe1W4N",
        "trusted": true
      },
      "outputs": [],
      "source": [
        "np.random.seed(8)"
      ]
    },
    {
      "cell_type": "markdown",
      "metadata": {
        "id": "S1wVtxW71W4O"
      },
      "source": [
        "Fungsi seed digunakan untuk menyimpan status fungsi random, sehingga dapat menghasilkan angka acak yang sama pada beberapa eksekusi kode pada mesin yang sama atau pada mesin yang berbeda (untuk nilai seed tertentu). Nilai seed adalah angka nilai sebelumnya yang dihasilkan oleh generator. Untuk pertama kalinya ketika tidak ada nilai sebelumnya, ia menggunakan waktu sistem saat ini."
      ]
    },
    {
      "cell_type": "code",
      "execution_count": 27,
      "metadata": {
        "colab": {
          "base_uri": "https://localhost:8080/"
        },
        "execution": {
          "iopub.execute_input": "2022-09-02T10:40:48.607231Z",
          "iopub.status.busy": "2022-09-02T10:40:48.606326Z",
          "iopub.status.idle": "2022-09-02T10:40:48.619544Z",
          "shell.execute_reply": "2022-09-02T10:40:48.618094Z",
          "shell.execute_reply.started": "2022-09-02T10:40:48.607183Z"
        },
        "id": "16nr7Y8B1W4O",
        "outputId": "450f8ec6-5e66-4f4a-eff3-4b0c0dfbecad",
        "trusted": true
      },
      "outputs": [
        {
          "name": "stdout",
          "output_type": "stream",
          "text": [
            "452\n",
            "452\n",
            "452\n",
            "452\n",
            "452\n"
          ]
        }
      ],
      "source": [
        "for i in range(5):\n",
        "    np.random.seed(8)\n",
        "    print(np.random.randint(1, 1000))"
      ]
    },
    {
      "cell_type": "code",
      "execution_count": 28,
      "metadata": {
        "execution": {
          "iopub.execute_input": "2022-09-02T10:40:48.622287Z",
          "iopub.status.busy": "2022-09-02T10:40:48.621204Z",
          "iopub.status.idle": "2022-09-02T10:40:48.636478Z",
          "shell.execute_reply": "2022-09-02T10:40:48.635367Z",
          "shell.execute_reply.started": "2022-09-02T10:40:48.622248Z"
        },
        "id": "Xp_yMMOL1W4O",
        "trusted": true
      },
      "outputs": [],
      "source": [
        "## Split data train dan test\n",
        "X_train, X_test, y_train, y_test = train_test_split(X, y, test_size = 0.2)"
      ]
    },
    {
      "cell_type": "code",
      "execution_count": 29,
      "metadata": {
        "colab": {
          "base_uri": "https://localhost:8080/",
          "height": 423
        },
        "execution": {
          "iopub.execute_input": "2022-09-02T10:40:48.638333Z",
          "iopub.status.busy": "2022-09-02T10:40:48.637979Z",
          "iopub.status.idle": "2022-09-02T10:40:48.664616Z",
          "shell.execute_reply": "2022-09-02T10:40:48.663394Z",
          "shell.execute_reply.started": "2022-09-02T10:40:48.638303Z"
        },
        "id": "dYTgPRzY1W4P",
        "outputId": "a607ccec-9d89-4fcf-9482-b54447c90a5e",
        "trusted": true
      },
      "outputs": [
        {
          "data": {
            "text/html": [
              "<div>\n",
              "<style scoped>\n",
              "    .dataframe tbody tr th:only-of-type {\n",
              "        vertical-align: middle;\n",
              "    }\n",
              "\n",
              "    .dataframe tbody tr th {\n",
              "        vertical-align: top;\n",
              "    }\n",
              "\n",
              "    .dataframe thead th {\n",
              "        text-align: right;\n",
              "    }\n",
              "</style>\n",
              "<table border=\"1\" class=\"dataframe\">\n",
              "  <thead>\n",
              "    <tr style=\"text-align: right;\">\n",
              "      <th></th>\n",
              "      <th>age</th>\n",
              "      <th>sex</th>\n",
              "      <th>cp</th>\n",
              "      <th>trestbps</th>\n",
              "      <th>chol</th>\n",
              "      <th>fbs</th>\n",
              "      <th>restecg</th>\n",
              "      <th>thalach</th>\n",
              "      <th>exang</th>\n",
              "      <th>oldpeak</th>\n",
              "      <th>slope</th>\n",
              "      <th>ca</th>\n",
              "      <th>thal</th>\n",
              "    </tr>\n",
              "  </thead>\n",
              "  <tbody>\n",
              "    <tr>\n",
              "      <th>202</th>\n",
              "      <td>58</td>\n",
              "      <td>1</td>\n",
              "      <td>0</td>\n",
              "      <td>150</td>\n",
              "      <td>270</td>\n",
              "      <td>0</td>\n",
              "      <td>0</td>\n",
              "      <td>111</td>\n",
              "      <td>1</td>\n",
              "      <td>0.8</td>\n",
              "      <td>2</td>\n",
              "      <td>0</td>\n",
              "      <td>3</td>\n",
              "    </tr>\n",
              "    <tr>\n",
              "      <th>111</th>\n",
              "      <td>57</td>\n",
              "      <td>1</td>\n",
              "      <td>2</td>\n",
              "      <td>150</td>\n",
              "      <td>126</td>\n",
              "      <td>1</td>\n",
              "      <td>1</td>\n",
              "      <td>173</td>\n",
              "      <td>0</td>\n",
              "      <td>0.2</td>\n",
              "      <td>2</td>\n",
              "      <td>1</td>\n",
              "      <td>3</td>\n",
              "    </tr>\n",
              "    <tr>\n",
              "      <th>37</th>\n",
              "      <td>54</td>\n",
              "      <td>1</td>\n",
              "      <td>2</td>\n",
              "      <td>150</td>\n",
              "      <td>232</td>\n",
              "      <td>0</td>\n",
              "      <td>0</td>\n",
              "      <td>165</td>\n",
              "      <td>0</td>\n",
              "      <td>1.6</td>\n",
              "      <td>2</td>\n",
              "      <td>0</td>\n",
              "      <td>3</td>\n",
              "    </tr>\n",
              "    <tr>\n",
              "      <th>137</th>\n",
              "      <td>62</td>\n",
              "      <td>1</td>\n",
              "      <td>1</td>\n",
              "      <td>128</td>\n",
              "      <td>208</td>\n",
              "      <td>1</td>\n",
              "      <td>0</td>\n",
              "      <td>140</td>\n",
              "      <td>0</td>\n",
              "      <td>0.0</td>\n",
              "      <td>2</td>\n",
              "      <td>0</td>\n",
              "      <td>2</td>\n",
              "    </tr>\n",
              "    <tr>\n",
              "      <th>231</th>\n",
              "      <td>57</td>\n",
              "      <td>1</td>\n",
              "      <td>0</td>\n",
              "      <td>165</td>\n",
              "      <td>289</td>\n",
              "      <td>1</td>\n",
              "      <td>0</td>\n",
              "      <td>124</td>\n",
              "      <td>0</td>\n",
              "      <td>1.0</td>\n",
              "      <td>1</td>\n",
              "      <td>3</td>\n",
              "      <td>3</td>\n",
              "    </tr>\n",
              "    <tr>\n",
              "      <th>...</th>\n",
              "      <td>...</td>\n",
              "      <td>...</td>\n",
              "      <td>...</td>\n",
              "      <td>...</td>\n",
              "      <td>...</td>\n",
              "      <td>...</td>\n",
              "      <td>...</td>\n",
              "      <td>...</td>\n",
              "      <td>...</td>\n",
              "      <td>...</td>\n",
              "      <td>...</td>\n",
              "      <td>...</td>\n",
              "      <td>...</td>\n",
              "    </tr>\n",
              "    <tr>\n",
              "      <th>85</th>\n",
              "      <td>67</td>\n",
              "      <td>0</td>\n",
              "      <td>2</td>\n",
              "      <td>115</td>\n",
              "      <td>564</td>\n",
              "      <td>0</td>\n",
              "      <td>0</td>\n",
              "      <td>160</td>\n",
              "      <td>0</td>\n",
              "      <td>1.6</td>\n",
              "      <td>1</td>\n",
              "      <td>0</td>\n",
              "      <td>3</td>\n",
              "    </tr>\n",
              "    <tr>\n",
              "      <th>48</th>\n",
              "      <td>53</td>\n",
              "      <td>0</td>\n",
              "      <td>2</td>\n",
              "      <td>128</td>\n",
              "      <td>216</td>\n",
              "      <td>0</td>\n",
              "      <td>0</td>\n",
              "      <td>115</td>\n",
              "      <td>0</td>\n",
              "      <td>0.0</td>\n",
              "      <td>2</td>\n",
              "      <td>0</td>\n",
              "      <td>0</td>\n",
              "    </tr>\n",
              "    <tr>\n",
              "      <th>191</th>\n",
              "      <td>58</td>\n",
              "      <td>1</td>\n",
              "      <td>0</td>\n",
              "      <td>128</td>\n",
              "      <td>216</td>\n",
              "      <td>0</td>\n",
              "      <td>0</td>\n",
              "      <td>131</td>\n",
              "      <td>1</td>\n",
              "      <td>2.2</td>\n",
              "      <td>1</td>\n",
              "      <td>3</td>\n",
              "      <td>3</td>\n",
              "    </tr>\n",
              "    <tr>\n",
              "      <th>136</th>\n",
              "      <td>60</td>\n",
              "      <td>0</td>\n",
              "      <td>2</td>\n",
              "      <td>120</td>\n",
              "      <td>178</td>\n",
              "      <td>1</td>\n",
              "      <td>1</td>\n",
              "      <td>96</td>\n",
              "      <td>0</td>\n",
              "      <td>0.0</td>\n",
              "      <td>2</td>\n",
              "      <td>0</td>\n",
              "      <td>2</td>\n",
              "    </tr>\n",
              "    <tr>\n",
              "      <th>133</th>\n",
              "      <td>41</td>\n",
              "      <td>1</td>\n",
              "      <td>1</td>\n",
              "      <td>110</td>\n",
              "      <td>235</td>\n",
              "      <td>0</td>\n",
              "      <td>1</td>\n",
              "      <td>153</td>\n",
              "      <td>0</td>\n",
              "      <td>0.0</td>\n",
              "      <td>2</td>\n",
              "      <td>0</td>\n",
              "      <td>2</td>\n",
              "    </tr>\n",
              "  </tbody>\n",
              "</table>\n",
              "<p>242 rows × 13 columns</p>\n",
              "</div>"
            ],
            "text/plain": [
              "     age  sex  cp  trestbps  chol  fbs  restecg  thalach  exang  oldpeak  \\\n",
              "202   58    1   0       150   270    0        0      111      1      0.8   \n",
              "111   57    1   2       150   126    1        1      173      0      0.2   \n",
              "37    54    1   2       150   232    0        0      165      0      1.6   \n",
              "137   62    1   1       128   208    1        0      140      0      0.0   \n",
              "231   57    1   0       165   289    1        0      124      0      1.0   \n",
              "..   ...  ...  ..       ...   ...  ...      ...      ...    ...      ...   \n",
              "85    67    0   2       115   564    0        0      160      0      1.6   \n",
              "48    53    0   2       128   216    0        0      115      0      0.0   \n",
              "191   58    1   0       128   216    0        0      131      1      2.2   \n",
              "136   60    0   2       120   178    1        1       96      0      0.0   \n",
              "133   41    1   1       110   235    0        1      153      0      0.0   \n",
              "\n",
              "     slope  ca  thal  \n",
              "202      2   0     3  \n",
              "111      2   1     3  \n",
              "37       2   0     3  \n",
              "137      2   0     2  \n",
              "231      1   3     3  \n",
              "..     ...  ..   ...  \n",
              "85       1   0     3  \n",
              "48       2   0     0  \n",
              "191      1   3     3  \n",
              "136      2   0     2  \n",
              "133      2   0     2  \n",
              "\n",
              "[242 rows x 13 columns]"
            ]
          },
          "execution_count": 29,
          "metadata": {},
          "output_type": "execute_result"
        }
      ],
      "source": [
        "X_train"
      ]
    },
    {
      "cell_type": "code",
      "execution_count": 30,
      "metadata": {
        "colab": {
          "base_uri": "https://localhost:8080/",
          "height": 423
        },
        "execution": {
          "iopub.execute_input": "2022-09-02T10:40:48.666812Z",
          "iopub.status.busy": "2022-09-02T10:40:48.666398Z",
          "iopub.status.idle": "2022-09-02T10:40:48.694683Z",
          "shell.execute_reply": "2022-09-02T10:40:48.693732Z",
          "shell.execute_reply.started": "2022-09-02T10:40:48.666763Z"
        },
        "id": "ActLBiQj1W4P",
        "outputId": "8be08e8e-f075-48ba-cbf1-2b87410649cd",
        "trusted": true
      },
      "outputs": [
        {
          "data": {
            "text/html": [
              "<div>\n",
              "<style scoped>\n",
              "    .dataframe tbody tr th:only-of-type {\n",
              "        vertical-align: middle;\n",
              "    }\n",
              "\n",
              "    .dataframe tbody tr th {\n",
              "        vertical-align: top;\n",
              "    }\n",
              "\n",
              "    .dataframe thead th {\n",
              "        text-align: right;\n",
              "    }\n",
              "</style>\n",
              "<table border=\"1\" class=\"dataframe\">\n",
              "  <thead>\n",
              "    <tr style=\"text-align: right;\">\n",
              "      <th></th>\n",
              "      <th>age</th>\n",
              "      <th>sex</th>\n",
              "      <th>cp</th>\n",
              "      <th>trestbps</th>\n",
              "      <th>chol</th>\n",
              "      <th>fbs</th>\n",
              "      <th>restecg</th>\n",
              "      <th>thalach</th>\n",
              "      <th>exang</th>\n",
              "      <th>oldpeak</th>\n",
              "      <th>slope</th>\n",
              "      <th>ca</th>\n",
              "      <th>thal</th>\n",
              "    </tr>\n",
              "  </thead>\n",
              "  <tbody>\n",
              "    <tr>\n",
              "      <th>141</th>\n",
              "      <td>43</td>\n",
              "      <td>1</td>\n",
              "      <td>0</td>\n",
              "      <td>115</td>\n",
              "      <td>303</td>\n",
              "      <td>0</td>\n",
              "      <td>1</td>\n",
              "      <td>181</td>\n",
              "      <td>0</td>\n",
              "      <td>1.2</td>\n",
              "      <td>1</td>\n",
              "      <td>0</td>\n",
              "      <td>2</td>\n",
              "    </tr>\n",
              "    <tr>\n",
              "      <th>222</th>\n",
              "      <td>65</td>\n",
              "      <td>1</td>\n",
              "      <td>3</td>\n",
              "      <td>138</td>\n",
              "      <td>282</td>\n",
              "      <td>1</td>\n",
              "      <td>0</td>\n",
              "      <td>174</td>\n",
              "      <td>0</td>\n",
              "      <td>1.4</td>\n",
              "      <td>1</td>\n",
              "      <td>1</td>\n",
              "      <td>2</td>\n",
              "    </tr>\n",
              "    <tr>\n",
              "      <th>135</th>\n",
              "      <td>49</td>\n",
              "      <td>0</td>\n",
              "      <td>0</td>\n",
              "      <td>130</td>\n",
              "      <td>269</td>\n",
              "      <td>0</td>\n",
              "      <td>1</td>\n",
              "      <td>163</td>\n",
              "      <td>0</td>\n",
              "      <td>0.0</td>\n",
              "      <td>2</td>\n",
              "      <td>0</td>\n",
              "      <td>2</td>\n",
              "    </tr>\n",
              "    <tr>\n",
              "      <th>139</th>\n",
              "      <td>64</td>\n",
              "      <td>1</td>\n",
              "      <td>0</td>\n",
              "      <td>128</td>\n",
              "      <td>263</td>\n",
              "      <td>0</td>\n",
              "      <td>1</td>\n",
              "      <td>105</td>\n",
              "      <td>1</td>\n",
              "      <td>0.2</td>\n",
              "      <td>1</td>\n",
              "      <td>1</td>\n",
              "      <td>3</td>\n",
              "    </tr>\n",
              "    <tr>\n",
              "      <th>175</th>\n",
              "      <td>40</td>\n",
              "      <td>1</td>\n",
              "      <td>0</td>\n",
              "      <td>110</td>\n",
              "      <td>167</td>\n",
              "      <td>0</td>\n",
              "      <td>0</td>\n",
              "      <td>114</td>\n",
              "      <td>1</td>\n",
              "      <td>2.0</td>\n",
              "      <td>1</td>\n",
              "      <td>0</td>\n",
              "      <td>3</td>\n",
              "    </tr>\n",
              "    <tr>\n",
              "      <th>...</th>\n",
              "      <td>...</td>\n",
              "      <td>...</td>\n",
              "      <td>...</td>\n",
              "      <td>...</td>\n",
              "      <td>...</td>\n",
              "      <td>...</td>\n",
              "      <td>...</td>\n",
              "      <td>...</td>\n",
              "      <td>...</td>\n",
              "      <td>...</td>\n",
              "      <td>...</td>\n",
              "      <td>...</td>\n",
              "      <td>...</td>\n",
              "    </tr>\n",
              "    <tr>\n",
              "      <th>96</th>\n",
              "      <td>62</td>\n",
              "      <td>0</td>\n",
              "      <td>0</td>\n",
              "      <td>140</td>\n",
              "      <td>394</td>\n",
              "      <td>0</td>\n",
              "      <td>0</td>\n",
              "      <td>157</td>\n",
              "      <td>0</td>\n",
              "      <td>1.2</td>\n",
              "      <td>1</td>\n",
              "      <td>0</td>\n",
              "      <td>2</td>\n",
              "    </tr>\n",
              "    <tr>\n",
              "      <th>151</th>\n",
              "      <td>71</td>\n",
              "      <td>0</td>\n",
              "      <td>0</td>\n",
              "      <td>112</td>\n",
              "      <td>149</td>\n",
              "      <td>0</td>\n",
              "      <td>1</td>\n",
              "      <td>125</td>\n",
              "      <td>0</td>\n",
              "      <td>1.6</td>\n",
              "      <td>1</td>\n",
              "      <td>0</td>\n",
              "      <td>2</td>\n",
              "    </tr>\n",
              "    <tr>\n",
              "      <th>262</th>\n",
              "      <td>53</td>\n",
              "      <td>1</td>\n",
              "      <td>0</td>\n",
              "      <td>123</td>\n",
              "      <td>282</td>\n",
              "      <td>0</td>\n",
              "      <td>1</td>\n",
              "      <td>95</td>\n",
              "      <td>1</td>\n",
              "      <td>2.0</td>\n",
              "      <td>1</td>\n",
              "      <td>2</td>\n",
              "      <td>3</td>\n",
              "    </tr>\n",
              "    <tr>\n",
              "      <th>110</th>\n",
              "      <td>64</td>\n",
              "      <td>0</td>\n",
              "      <td>0</td>\n",
              "      <td>180</td>\n",
              "      <td>325</td>\n",
              "      <td>0</td>\n",
              "      <td>1</td>\n",
              "      <td>154</td>\n",
              "      <td>1</td>\n",
              "      <td>0.0</td>\n",
              "      <td>2</td>\n",
              "      <td>0</td>\n",
              "      <td>2</td>\n",
              "    </tr>\n",
              "    <tr>\n",
              "      <th>100</th>\n",
              "      <td>42</td>\n",
              "      <td>1</td>\n",
              "      <td>3</td>\n",
              "      <td>148</td>\n",
              "      <td>244</td>\n",
              "      <td>0</td>\n",
              "      <td>0</td>\n",
              "      <td>178</td>\n",
              "      <td>0</td>\n",
              "      <td>0.8</td>\n",
              "      <td>2</td>\n",
              "      <td>2</td>\n",
              "      <td>2</td>\n",
              "    </tr>\n",
              "  </tbody>\n",
              "</table>\n",
              "<p>61 rows × 13 columns</p>\n",
              "</div>"
            ],
            "text/plain": [
              "     age  sex  cp  trestbps  chol  fbs  restecg  thalach  exang  oldpeak  \\\n",
              "141   43    1   0       115   303    0        1      181      0      1.2   \n",
              "222   65    1   3       138   282    1        0      174      0      1.4   \n",
              "135   49    0   0       130   269    0        1      163      0      0.0   \n",
              "139   64    1   0       128   263    0        1      105      1      0.2   \n",
              "175   40    1   0       110   167    0        0      114      1      2.0   \n",
              "..   ...  ...  ..       ...   ...  ...      ...      ...    ...      ...   \n",
              "96    62    0   0       140   394    0        0      157      0      1.2   \n",
              "151   71    0   0       112   149    0        1      125      0      1.6   \n",
              "262   53    1   0       123   282    0        1       95      1      2.0   \n",
              "110   64    0   0       180   325    0        1      154      1      0.0   \n",
              "100   42    1   3       148   244    0        0      178      0      0.8   \n",
              "\n",
              "     slope  ca  thal  \n",
              "141      1   0     2  \n",
              "222      1   1     2  \n",
              "135      2   0     2  \n",
              "139      1   1     3  \n",
              "175      1   0     3  \n",
              "..     ...  ..   ...  \n",
              "96       1   0     2  \n",
              "151      1   0     2  \n",
              "262      1   2     3  \n",
              "110      2   0     2  \n",
              "100      2   2     2  \n",
              "\n",
              "[61 rows x 13 columns]"
            ]
          },
          "execution_count": 30,
          "metadata": {},
          "output_type": "execute_result"
        }
      ],
      "source": [
        "X_test"
      ]
    },
    {
      "cell_type": "code",
      "execution_count": 31,
      "metadata": {
        "colab": {
          "base_uri": "https://localhost:8080/"
        },
        "execution": {
          "iopub.execute_input": "2022-09-02T10:40:48.696641Z",
          "iopub.status.busy": "2022-09-02T10:40:48.696088Z",
          "iopub.status.idle": "2022-09-02T10:40:48.71115Z",
          "shell.execute_reply": "2022-09-02T10:40:48.709957Z",
          "shell.execute_reply.started": "2022-09-02T10:40:48.696607Z"
        },
        "id": "t34WnlHV1W4P",
        "outputId": "4424b22e-3806-4d1f-dbc2-ac1aa353c7bd",
        "trusted": true
      },
      "outputs": [
        {
          "data": {
            "text/plain": [
              "(array([0, 1, 1, 1, 0, 0, 1, 1, 1, 0, 0, 1, 0, 1, 0, 1, 0, 1, 0, 0, 1, 0,\n",
              "        0, 1, 1, 0, 1, 0, 0, 0, 1, 1, 1, 0, 1, 1, 1, 1, 0, 0, 1, 1, 0, 1,\n",
              "        0, 0, 0, 1, 0, 0, 0, 0, 1, 0, 1, 1, 0, 1, 0, 0, 0, 0, 0, 1, 0, 0,\n",
              "        0, 1, 1, 0, 1, 1, 1, 1, 0, 0, 1, 1, 0, 1, 1, 0, 0, 0, 0, 0, 1, 0,\n",
              "        0, 0, 0, 0, 0, 0, 1, 1, 0, 0, 0, 1, 1, 1, 1, 0, 0, 1, 1, 0, 0, 1,\n",
              "        0, 0, 1, 0, 1, 0, 0, 1, 1, 0, 0, 1, 1, 1, 1, 0, 0, 1, 1, 1, 0, 0,\n",
              "        0, 0, 0, 1, 1, 1, 1, 0, 1, 0, 1, 1, 1, 1, 0, 0, 0, 0, 1, 1, 1, 0,\n",
              "        0, 1, 0, 1, 1, 1, 1, 1, 0, 1, 1, 0, 0, 0, 1, 0, 0, 0, 0, 0, 1, 1,\n",
              "        0, 1, 1, 0, 1, 1, 1, 0, 0, 1, 0, 1, 0, 0, 0, 0, 1, 0, 1, 1, 1, 0,\n",
              "        1, 1, 1, 1, 1, 1, 1, 0, 0, 1, 1, 0, 1, 1, 0, 1, 0, 1, 0, 1, 1, 1,\n",
              "        1, 0, 1, 0, 1, 0, 1, 0, 1, 0, 1, 1, 1, 0, 1, 1, 1, 1, 1, 0, 1, 1]),\n",
              " 242)"
            ]
          },
          "execution_count": 31,
          "metadata": {},
          "output_type": "execute_result"
        }
      ],
      "source": [
        "y_train, len(y_train)"
      ]
    },
    {
      "cell_type": "code",
      "execution_count": 32,
      "metadata": {
        "colab": {
          "base_uri": "https://localhost:8080/"
        },
        "execution": {
          "iopub.execute_input": "2022-09-02T10:40:48.71324Z",
          "iopub.status.busy": "2022-09-02T10:40:48.712499Z",
          "iopub.status.idle": "2022-09-02T10:40:48.724375Z",
          "shell.execute_reply": "2022-09-02T10:40:48.723293Z",
          "shell.execute_reply.started": "2022-09-02T10:40:48.713205Z"
        },
        "id": "feTexQTx1W4P",
        "outputId": "a6e5a2c6-b3db-416f-fab0-8de6cc805a79",
        "trusted": true
      },
      "outputs": [
        {
          "data": {
            "text/plain": [
              "(array([1, 0, 1, 1, 0, 1, 0, 1, 1, 0, 0, 1, 1, 1, 0, 0, 1, 1, 1, 1, 1, 1,\n",
              "        0, 1, 1, 0, 1, 1, 0, 1, 0, 0, 1, 1, 1, 1, 0, 0, 0, 1, 0, 1, 0, 1,\n",
              "        0, 1, 0, 1, 0, 1, 1, 0, 1, 1, 1, 1, 1, 1, 0, 1, 1]),\n",
              " 61)"
            ]
          },
          "execution_count": 32,
          "metadata": {},
          "output_type": "execute_result"
        }
      ],
      "source": [
        "y_test, len(y_test)"
      ]
    },
    {
      "cell_type": "markdown",
      "metadata": {
        "id": "8ruNaOf51W4Q"
      },
      "source": [
        "## Membandingkan Model Machine Learning\n",
        "\n",
        "- Logistic Regression\n",
        "- K-Nearest Neighbors\n",
        "- Random Forest"
      ]
    },
    {
      "cell_type": "code",
      "execution_count": 33,
      "metadata": {
        "execution": {
          "iopub.execute_input": "2022-09-02T10:40:48.726981Z",
          "iopub.status.busy": "2022-09-02T10:40:48.725924Z",
          "iopub.status.idle": "2022-09-02T10:40:48.738587Z",
          "shell.execute_reply": "2022-09-02T10:40:48.737043Z",
          "shell.execute_reply.started": "2022-09-02T10:40:48.726943Z"
        },
        "id": "Z7WSXOMo1W4Q",
        "trusted": true
      },
      "outputs": [],
      "source": [
        "models = {\n",
        "    \"KNN\": KNeighborsClassifier(),\n",
        "    \"Logistic Regression\": LogisticRegression(),\n",
        "    \"Random Forest\": RandomForestClassifier()\n",
        "}\n",
        "\n",
        "def fit_and_score(models, X_train, X_test, y_train, y_test):\n",
        "    \"\"\"\n",
        "    Menyesuaikan dan mengevaluasi model machine learning.\n",
        "    models: dictionary dari model pembelajaran mesin Scikit-Learn yang berbeda.\n",
        "    X_train: training data\n",
        "    X_test: testing data\n",
        "    y_train: label yang terkait dengan data pelatihan\n",
        "    y_test: label yang terkait dengan data testing\n",
        "    \"\"\"\n",
        "    np.random.seed(8)\n",
        "    # Membuat dictionary untuk menyimpan skor model\n",
        "    model_scores = {}\n",
        "    for name, model in models.items():\n",
        "        model.fit(X_train, y_train)\n",
        "        model_scores[name] = model.score(X_test, y_test)\n",
        "    return model_scores"
      ]
    },
    {
      "cell_type": "markdown",
      "metadata": {
        "id": "B2qBJ5oQ1W4Q"
      },
      "source": [
        "## Menggunakan Parameter Default"
      ]
    },
    {
      "cell_type": "code",
      "execution_count": 34,
      "metadata": {
        "colab": {
          "base_uri": "https://localhost:8080/"
        },
        "execution": {
          "iopub.execute_input": "2022-09-02T10:40:48.741725Z",
          "iopub.status.busy": "2022-09-02T10:40:48.740397Z",
          "iopub.status.idle": "2022-09-02T10:40:48.95761Z",
          "shell.execute_reply": "2022-09-02T10:40:48.956312Z",
          "shell.execute_reply.started": "2022-09-02T10:40:48.74168Z"
        },
        "id": "GySVtmt41W4Q",
        "outputId": "35e8ff55-0c7d-49f5-ccdb-b4b48a91b6dc",
        "trusted": true
      },
      "outputs": [
        {
          "name": "stderr",
          "output_type": "stream",
          "text": [
            "C:\\Users\\HP\\AppData\\Local\\Packages\\PythonSoftwareFoundation.Python.3.10_qbz5n2kfra8p0\\LocalCache\\local-packages\\Python310\\site-packages\\sklearn\\linear_model\\_logistic.py:469: ConvergenceWarning: lbfgs failed to converge (status=1):\n",
            "STOP: TOTAL NO. of ITERATIONS REACHED LIMIT.\n",
            "\n",
            "Increase the number of iterations (max_iter) or scale the data as shown in:\n",
            "    https://scikit-learn.org/stable/modules/preprocessing.html\n",
            "Please also refer to the documentation for alternative solver options:\n",
            "    https://scikit-learn.org/stable/modules/linear_model.html#logistic-regression\n",
            "  n_iter_i = _check_optimize_result(\n"
          ]
        },
        {
          "data": {
            "text/plain": [
              "{'KNN': 0.6885245901639344,\n",
              " 'Logistic Regression': 0.8688524590163934,\n",
              " 'Random Forest': 0.8524590163934426}"
            ]
          },
          "execution_count": 34,
          "metadata": {},
          "output_type": "execute_result"
        }
      ],
      "source": [
        "model_scores = fit_and_score(models, X_train, X_test, y_train, y_test)\n",
        "model_scores"
      ]
    },
    {
      "cell_type": "markdown",
      "metadata": {
        "id": "uyuvPQ_K1W4R"
      },
      "source": [
        "## Perbandingan Model"
      ]
    },
    {
      "cell_type": "code",
      "execution_count": 35,
      "metadata": {
        "colab": {
          "base_uri": "https://localhost:8080/",
          "height": 549
        },
        "execution": {
          "iopub.execute_input": "2022-09-02T10:40:48.960659Z",
          "iopub.status.busy": "2022-09-02T10:40:48.959436Z",
          "iopub.status.idle": "2022-09-02T10:40:49.205094Z",
          "shell.execute_reply": "2022-09-02T10:40:49.203802Z",
          "shell.execute_reply.started": "2022-09-02T10:40:48.960609Z"
        },
        "id": "lOmqVQ021W4R",
        "outputId": "886e9188-65b5-4b93-eec3-9d99bb276ce0",
        "trusted": true
      },
      "outputs": [
        {
          "data": {
            "image/png": "[encoded data removed]",
            "text/plain": [
              "<Figure size 640x480 with 1 Axes>"
            ]
          },
          "metadata": {},
          "output_type": "display_data"
        }
      ],
      "source": [
        "model_compare = pd.DataFrame(model_scores, index=['accuracy'])\n",
        "model_compare.T.plot.bar();"
      ]
    },
    {
      "cell_type": "markdown",
      "metadata": {
        "id": "emk6hp9q1W4R"
      },
      "source": [
        "## Menggunakan Hyperparameter Tuning dan Cross Validation\n",
        "\n",
        "### Tune Parameter KNN\n",
        "\n",
        "Dengan mencoba beberapa nilai n_neighbors yang berbeda."
      ]
    },
    {
      "cell_type": "code",
      "execution_count": 36,
      "metadata": {
        "execution": {
          "iopub.execute_input": "2022-09-02T10:40:49.206845Z",
          "iopub.status.busy": "2022-09-02T10:40:49.206477Z",
          "iopub.status.idle": "2022-09-02T10:40:49.555273Z",
          "shell.execute_reply": "2022-09-02T10:40:49.554228Z",
          "shell.execute_reply.started": "2022-09-02T10:40:49.206804Z"
        },
        "id": "l6kpMeF61W4R",
        "trusted": true
      },
      "outputs": [],
      "source": [
        "# List train scores\n",
        "train_scores = []\n",
        "\n",
        "# List test scores\n",
        "test_scores = []\n",
        "\n",
        "# Mencoba beberapa nilai n\n",
        "neighbors = range(1,21)\n",
        "\n",
        "# algoritma\n",
        "knn = KNeighborsClassifier()\n",
        "\n",
        "# Loop\n",
        "for i in neighbors:\n",
        "    knn.set_params(n_neighbors = i)\n",
        "    knn.fit(X_train, y_train)\n",
        "\n",
        "    # Update scores\n",
        "    train_scores.append(knn.score(X_train, y_train))\n",
        "    test_scores.append(knn.score(X_test, y_test))"
      ]
    },
    {
      "cell_type": "code",
      "execution_count": 37,
      "metadata": {
        "colab": {
          "base_uri": "https://localhost:8080/"
        },
        "execution": {
          "iopub.execute_input": "2022-09-02T10:40:49.557507Z",
          "iopub.status.busy": "2022-09-02T10:40:49.556873Z",
          "iopub.status.idle": "2022-09-02T10:40:49.564504Z",
          "shell.execute_reply": "2022-09-02T10:40:49.563264Z",
          "shell.execute_reply.started": "2022-09-02T10:40:49.557468Z"
        },
        "id": "l0P1zbJG1W4S",
        "outputId": "ec630bba-6f87-41fc-879d-b387c386da73",
        "trusted": true
      },
      "outputs": [
        {
          "data": {
            "text/plain": [
              "[1.0,\n",
              " 0.8057851239669421,\n",
              " 0.7933884297520661,\n",
              " 0.768595041322314,\n",
              " 0.7644628099173554,\n",
              " 0.7479338842975206,\n",
              " 0.731404958677686,\n",
              " 0.7148760330578512,\n",
              " 0.7107438016528925,\n",
              " 0.6859504132231405,\n",
              " 0.6942148760330579,\n",
              " 0.6735537190082644,\n",
              " 0.6942148760330579,\n",
              " 0.6735537190082644,\n",
              " 0.6694214876033058,\n",
              " 0.6570247933884298,\n",
              " 0.6652892561983471,\n",
              " 0.6611570247933884,\n",
              " 0.6528925619834711,\n",
              " 0.6611570247933884]"
            ]
          },
          "execution_count": 37,
          "metadata": {},
          "output_type": "execute_result"
        }
      ],
      "source": [
        "train_scores"
      ]
    },
    {
      "cell_type": "code",
      "execution_count": 38,
      "metadata": {
        "colab": {
          "base_uri": "https://localhost:8080/"
        },
        "execution": {
          "iopub.execute_input": "2022-09-02T10:40:49.566587Z",
          "iopub.status.busy": "2022-09-02T10:40:49.56573Z",
          "iopub.status.idle": "2022-09-02T10:40:49.578166Z",
          "shell.execute_reply": "2022-09-02T10:40:49.577128Z",
          "shell.execute_reply.started": "2022-09-02T10:40:49.566542Z"
        },
        "id": "6vBuStNt1W4S",
        "outputId": "011e877b-2354-4ab1-e5cc-033eb1254b86",
        "trusted": true
      },
      "outputs": [
        {
          "data": {
            "text/plain": [
              "[0.639344262295082,\n",
              " 0.4426229508196721,\n",
              " 0.6229508196721312,\n",
              " 0.6229508196721312,\n",
              " 0.6885245901639344,\n",
              " 0.6885245901639344,\n",
              " 0.6557377049180327,\n",
              " 0.6721311475409836,\n",
              " 0.6557377049180327,\n",
              " 0.639344262295082,\n",
              " 0.6557377049180327,\n",
              " 0.6721311475409836,\n",
              " 0.6557377049180327,\n",
              " 0.6885245901639344,\n",
              " 0.639344262295082,\n",
              " 0.6721311475409836,\n",
              " 0.6557377049180327,\n",
              " 0.6557377049180327,\n",
              " 0.639344262295082,\n",
              " 0.6557377049180327]"
            ]
          },
          "execution_count": 38,
          "metadata": {},
          "output_type": "execute_result"
        }
      ],
      "source": [
        "test_scores"
      ]
    },
    {
      "cell_type": "code",
      "execution_count": 39,
      "metadata": {
        "colab": {
          "base_uri": "https://localhost:8080/",
          "height": 467
        },
        "execution": {
          "iopub.execute_input": "2022-09-02T10:43:46.782959Z",
          "iopub.status.busy": "2022-09-02T10:43:46.78251Z",
          "iopub.status.idle": "2022-09-02T10:43:47.099134Z",
          "shell.execute_reply": "2022-09-02T10:43:47.097828Z",
          "shell.execute_reply.started": "2022-09-02T10:43:46.782923Z"
        },
        "id": "LJf5I1aG1W4S",
        "outputId": "d8470c95-17e3-46ac-ec19-cc3ef4077c5e",
        "trusted": true
      },
      "outputs": [
        {
          "name": "stdout",
          "output_type": "stream",
          "text": [
            "Nilai KNN tertinggi pada data test: 68.85%\n"
          ]
        },
        {
          "data": {
            "image/png": "[encoded data removed]",
            "text/plain": [
              "<Figure size 640x480 with 1 Axes>"
            ]
          },
          "metadata": {},
          "output_type": "display_data"
        }
      ],
      "source": [
        "plt.plot(neighbors, train_scores, label=\"Train score\")\n",
        "plt.plot(neighbors, test_scores, label=\"Test score\")\n",
        "plt.xticks(np.arange(1, 21, 2))\n",
        "plt.xlabel(\"Number of neighbors\")\n",
        "plt.ylabel(\"Model score\")\n",
        "plt.ylim(ymin=0)\n",
        "plt.legend()\n",
        "\n",
        "print(f\"Nilai KNN tertinggi pada data test: {max(test_scores)*100:.2f}%\")"
      ]
    },
    {
      "cell_type": "markdown",
      "metadata": {
        "id": "tXFvmfrJ1W4S"
      },
      "source": [
        "## RandomizedSearch()"
      ]
    },
    {
      "cell_type": "code",
      "execution_count": 40,
      "metadata": {
        "execution": {
          "iopub.execute_input": "2022-09-02T10:40:49.98369Z",
          "iopub.status.busy": "2022-09-02T10:40:49.982925Z",
          "iopub.status.idle": "2022-09-02T10:40:49.990693Z",
          "shell.execute_reply": "2022-09-02T10:40:49.989638Z",
          "shell.execute_reply.started": "2022-09-02T10:40:49.983654Z"
        },
        "id": "h7eoZseO1W4T",
        "trusted": true
      },
      "outputs": [],
      "source": [
        "# Logistic Regression\n",
        "log_reg_grid = {\"C\": np.logspace(-4, 4, 20),\n",
        "                \"solver\": [\"liblinear\"]}\n",
        "\n",
        "# RandomForestClassifier\n",
        "rf_grid = {\"n_estimators\": np.arange(10, 1000, 50),\n",
        "           \"max_depth\": [None, 3, 5, 10],\n",
        "           \"min_samples_split\": np.arange(2, 20, 2),\n",
        "           \"min_samples_leaf\": np.arange(1, 20, 2)}"
      ]
    },
    {
      "cell_type": "code",
      "execution_count": 41,
      "metadata": {
        "colab": {
          "base_uri": "https://localhost:8080/"
        },
        "execution": {
          "iopub.execute_input": "2022-09-02T10:40:49.992789Z",
          "iopub.status.busy": "2022-09-02T10:40:49.99189Z",
          "iopub.status.idle": "2022-09-02T10:40:50.614042Z",
          "shell.execute_reply": "2022-09-02T10:40:50.612728Z",
          "shell.execute_reply.started": "2022-09-02T10:40:49.992752Z"
        },
        "id": "Fq2DybNH1W4T",
        "outputId": "532363c5-1f7b-4fe9-e329-5d265c342745",
        "trusted": true
      },
      "outputs": [
        {
          "name": "stdout",
          "output_type": "stream",
          "text": [
            "Fitting 5 folds for each of 20 candidates, totalling 100 fits\n"
          ]
        }
      ],
      "source": [
        "np.random.seed(8)\n",
        "\n",
        "#LogisticRegression\n",
        "rs_log_reg = RandomizedSearchCV(LogisticRegression(),\n",
        "                                param_distributions=log_reg_grid,\n",
        "                                cv=5,\n",
        "                                n_iter=20,\n",
        "                                verbose=True)\n",
        "\n",
        "rs_log_reg.fit(X_train, y_train);"
      ]
    },
    {
      "cell_type": "code",
      "execution_count": 42,
      "metadata": {
        "colab": {
          "base_uri": "https://localhost:8080/"
        },
        "execution": {
          "iopub.execute_input": "2022-09-02T10:40:50.616511Z",
          "iopub.status.busy": "2022-09-02T10:40:50.616015Z",
          "iopub.status.idle": "2022-09-02T10:40:50.626335Z",
          "shell.execute_reply": "2022-09-02T10:40:50.624905Z",
          "shell.execute_reply.started": "2022-09-02T10:40:50.616462Z"
        },
        "id": "Vj4DZxon1W4T",
        "outputId": "07bf8534-7260-47f7-f221-b6aab65bc79c",
        "trusted": true
      },
      "outputs": [
        {
          "data": {
            "text/plain": [
              "{'solver': 'liblinear', 'C': np.float64(1.623776739188721)}"
            ]
          },
          "execution_count": 42,
          "metadata": {},
          "output_type": "execute_result"
        }
      ],
      "source": [
        "rs_log_reg.best_params_"
      ]
    },
    {
      "cell_type": "code",
      "execution_count": 43,
      "metadata": {
        "colab": {
          "base_uri": "https://localhost:8080/"
        },
        "execution": {
          "iopub.execute_input": "2022-09-02T10:40:50.628258Z",
          "iopub.status.busy": "2022-09-02T10:40:50.627517Z",
          "iopub.status.idle": "2022-09-02T10:40:50.641592Z",
          "shell.execute_reply": "2022-09-02T10:40:50.640221Z",
          "shell.execute_reply.started": "2022-09-02T10:40:50.628225Z"
        },
        "id": "TSFRVcov1W4U",
        "outputId": "443cf621-f9cb-40c2-84ba-a61a7bfd6614",
        "trusted": true
      },
      "outputs": [
        {
          "data": {
            "text/plain": [
              "0.8688524590163934"
            ]
          },
          "execution_count": 43,
          "metadata": {},
          "output_type": "execute_result"
        }
      ],
      "source": [
        "rs_log_reg.score(X_test, y_test)"
      ]
    },
    {
      "cell_type": "markdown",
      "metadata": {
        "id": "Hex3lQPu1W4U"
      },
      "source": [
        "Setelah menggunakan RandomizedSearchCV() model Logistic Regression masih memiliki akurasi yang sama ketika menggunakan parameter default."
      ]
    },
    {
      "cell_type": "code",
      "execution_count": 44,
      "metadata": {
        "colab": {
          "base_uri": "https://localhost:8080/"
        },
        "execution": {
          "iopub.execute_input": "2022-09-02T10:40:50.643808Z",
          "iopub.status.busy": "2022-09-02T10:40:50.643282Z",
          "iopub.status.idle": "2022-09-02T10:41:52.284213Z",
          "shell.execute_reply": "2022-09-02T10:41:52.282973Z",
          "shell.execute_reply.started": "2022-09-02T10:40:50.643761Z"
        },
        "id": "ug6mhJCS1W4U",
        "outputId": "07e81f0b-47aa-4fbb-b6d5-f060d8bbbbb5",
        "trusted": true
      },
      "outputs": [
        {
          "name": "stdout",
          "output_type": "stream",
          "text": [
            "Fitting 5 folds for each of 20 candidates, totalling 100 fits\n"
          ]
        }
      ],
      "source": [
        "np.random.seed(8)\n",
        "\n",
        "#RandomForestClassifier\n",
        "rs_rfc = RandomizedSearchCV(RandomForestClassifier(),\n",
        "                            param_distributions=rf_grid,\n",
        "                            cv=5,\n",
        "                            n_iter=20,\n",
        "                            verbose=True)\n",
        "\n",
        "rs_rfc.fit(X_train, y_train);"
      ]
    },
    {
      "cell_type": "code",
      "execution_count": 45,
      "metadata": {
        "colab": {
          "base_uri": "https://localhost:8080/"
        },
        "execution": {
          "iopub.execute_input": "2022-09-02T10:41:52.286736Z",
          "iopub.status.busy": "2022-09-02T10:41:52.286238Z",
          "iopub.status.idle": "2022-09-02T10:41:52.295684Z",
          "shell.execute_reply": "2022-09-02T10:41:52.29436Z",
          "shell.execute_reply.started": "2022-09-02T10:41:52.286684Z"
        },
        "id": "HTVG6Zzs1W4V",
        "outputId": "589ccbd7-5ca7-477e-b74a-1528f2f9efc2",
        "trusted": true
      },
      "outputs": [
        {
          "data": {
            "text/plain": [
              "{'n_estimators': np.int64(810),\n",
              " 'min_samples_split': np.int64(12),\n",
              " 'min_samples_leaf': np.int64(3),\n",
              " 'max_depth': 3}"
            ]
          },
          "execution_count": 45,
          "metadata": {},
          "output_type": "execute_result"
        }
      ],
      "source": [
        "rs_rfc.best_params_"
      ]
    },
    {
      "cell_type": "code",
      "execution_count": 46,
      "metadata": {
        "colab": {
          "base_uri": "https://localhost:8080/"
        },
        "execution": {
          "iopub.execute_input": "2022-09-02T10:41:52.298525Z",
          "iopub.status.busy": "2022-09-02T10:41:52.29745Z",
          "iopub.status.idle": "2022-09-02T10:41:52.407212Z",
          "shell.execute_reply": "2022-09-02T10:41:52.406304Z",
          "shell.execute_reply.started": "2022-09-02T10:41:52.298475Z"
        },
        "id": "4Sz5ArKI1W4W",
        "outputId": "36e90f45-8292-471a-f84b-36013ee775fd",
        "trusted": true
      },
      "outputs": [
        {
          "data": {
            "text/plain": [
              "0.9016393442622951"
            ]
          },
          "execution_count": 46,
          "metadata": {},
          "output_type": "execute_result"
        }
      ],
      "source": [
        "rs_rfc.score(X_test, y_test)"
      ]
    },
    {
      "cell_type": "markdown",
      "metadata": {
        "id": "8_hILtBE1W4W"
      },
      "source": [
        "Sedangkan model RandomForestClassifier akurasinya meningkat dari 85% menjadi 90%"
      ]
    },
    {
      "cell_type": "markdown",
      "metadata": {
        "id": "rJewDJSG1W4X"
      },
      "source": [
        "## GridSearchCV()"
      ]
    },
    {
      "cell_type": "code",
      "execution_count": 47,
      "metadata": {
        "colab": {
          "base_uri": "https://localhost:8080/"
        },
        "execution": {
          "iopub.execute_input": "2022-09-02T10:41:52.408968Z",
          "iopub.status.busy": "2022-09-02T10:41:52.408602Z",
          "iopub.status.idle": "2022-09-02T10:41:53.001451Z",
          "shell.execute_reply": "2022-09-02T10:41:53.000354Z",
          "shell.execute_reply.started": "2022-09-02T10:41:52.408938Z"
        },
        "id": "B2Krqjy21W4X",
        "outputId": "161cc01e-46d1-474d-9c90-7ccb03ca23c6",
        "trusted": true
      },
      "outputs": [
        {
          "name": "stdout",
          "output_type": "stream",
          "text": [
            "Fitting 5 folds for each of 20 candidates, totalling 100 fits\n"
          ]
        }
      ],
      "source": [
        "np.random.seed(8)\n",
        "\n",
        "#LogisticRegression\n",
        "gs_log_reg = GridSearchCV(LogisticRegression(),\n",
        "                                param_grid=log_reg_grid,\n",
        "                                cv=5,\n",
        "                                verbose=True)\n",
        "\n",
        "gs_log_reg.fit(X_train, y_train);"
      ]
    },
    {
      "cell_type": "code",
      "execution_count": 48,
      "metadata": {
        "colab": {
          "base_uri": "https://localhost:8080/"
        },
        "execution": {
          "iopub.execute_input": "2022-09-02T10:41:53.00355Z",
          "iopub.status.busy": "2022-09-02T10:41:53.003058Z",
          "iopub.status.idle": "2022-09-02T10:41:53.010096Z",
          "shell.execute_reply": "2022-09-02T10:41:53.009209Z",
          "shell.execute_reply.started": "2022-09-02T10:41:53.003519Z"
        },
        "id": "jLa9-SEl1W4X",
        "outputId": "6f916249-e962-443e-af3f-32db06b269a6",
        "trusted": true
      },
      "outputs": [
        {
          "data": {
            "text/plain": [
              "{'C': np.float64(1.623776739188721), 'solver': 'liblinear'}"
            ]
          },
          "execution_count": 48,
          "metadata": {},
          "output_type": "execute_result"
        }
      ],
      "source": [
        "gs_log_reg.best_params_"
      ]
    },
    {
      "cell_type": "code",
      "execution_count": 49,
      "metadata": {
        "colab": {
          "base_uri": "https://localhost:8080/"
        },
        "execution": {
          "iopub.execute_input": "2022-09-02T10:41:53.011509Z",
          "iopub.status.busy": "2022-09-02T10:41:53.011186Z",
          "iopub.status.idle": "2022-09-02T10:41:53.033443Z",
          "shell.execute_reply": "2022-09-02T10:41:53.032611Z",
          "shell.execute_reply.started": "2022-09-02T10:41:53.011481Z"
        },
        "id": "l2E3tDaJ1W4Y",
        "outputId": "df4a086f-9e91-4b64-f528-7928ba0bb9fc",
        "scrolled": true,
        "trusted": true
      },
      "outputs": [
        {
          "data": {
            "text/plain": [
              "0.8688524590163934"
            ]
          },
          "execution_count": 49,
          "metadata": {},
          "output_type": "execute_result"
        }
      ],
      "source": [
        "gs_log_reg.score(X_test, y_test)"
      ]
    },
    {
      "cell_type": "markdown",
      "metadata": {
        "id": "hCiF1S4a1W4Y"
      },
      "source": [
        "Dalam hal ini, saya mendapatkan hasil yang sama seperti sebelumnya karena grid saya hanya memiliki maksimal 20 kombinasi hyperparameter yang berbeda.\n",
        "\n",
        "**Note**: Saya tidak menggunakan Grid pada RandomForestClassifier karena akan memiliki banyak kombinasi yang berbeda dan membutuhkan waktu yang lama, karena ini hanya latihan dan menyingkat waktu saya menggunakan RandomizedSearchCV."
      ]
    },
    {
      "cell_type": "markdown",
      "metadata": {
        "id": "SkMokLus1W4Y"
      },
      "source": [
        "## Evaluation Model Klasifikasi"
      ]
    },
    {
      "cell_type": "code",
      "execution_count": 50,
      "metadata": {
        "colab": {
          "base_uri": "https://localhost:8080/"
        },
        "execution": {
          "iopub.execute_input": "2022-09-02T10:41:53.034722Z",
          "iopub.status.busy": "2022-09-02T10:41:53.034407Z",
          "iopub.status.idle": "2022-09-02T10:41:53.051612Z",
          "shell.execute_reply": "2022-09-02T10:41:53.050301Z",
          "shell.execute_reply.started": "2022-09-02T10:41:53.034695Z"
        },
        "id": "dEECfFsz1W4Y",
        "outputId": "039dab44-cabd-4a4b-9658-6b05c60fe4fb",
        "trusted": true
      },
      "outputs": [
        {
          "data": {
            "text/plain": [
              "array([1, 1, 1, 0, 0, 1, 0, 1, 1, 0, 0, 1, 1, 0, 0, 0, 1, 1, 1, 1, 1, 1,\n",
              "       0, 1, 1, 0, 1, 1, 0, 1, 0, 1, 1, 0, 1, 1, 0, 0, 0, 1, 0, 1, 0, 1,\n",
              "       0, 0, 0, 0, 0, 1, 1, 0, 1, 1, 1, 0, 1, 1, 0, 1, 1])"
            ]
          },
          "execution_count": 50,
          "metadata": {},
          "output_type": "execute_result"
        }
      ],
      "source": [
        "y_preds = gs_log_reg.predict(X_test)\n",
        "y_preds"
      ]
    },
    {
      "cell_type": "code",
      "execution_count": 51,
      "metadata": {
        "colab": {
          "base_uri": "https://localhost:8080/"
        },
        "execution": {
          "iopub.execute_input": "2022-09-02T10:41:53.053487Z",
          "iopub.status.busy": "2022-09-02T10:41:53.053089Z",
          "iopub.status.idle": "2022-09-02T10:41:53.064136Z",
          "shell.execute_reply": "2022-09-02T10:41:53.063334Z",
          "shell.execute_reply.started": "2022-09-02T10:41:53.053457Z"
        },
        "id": "wLVu0hy71W4Z",
        "outputId": "de4bf5de-6aef-4884-9c48-cf5778bd8525",
        "trusted": true
      },
      "outputs": [
        {
          "data": {
            "text/plain": [
              "array([1, 0, 1, 1, 0, 1, 0, 1, 1, 0, 0, 1, 1, 1, 0, 0, 1, 1, 1, 1, 1, 1,\n",
              "       0, 1, 1, 0, 1, 1, 0, 1, 0, 0, 1, 1, 1, 1, 0, 0, 0, 1, 0, 1, 0, 1,\n",
              "       0, 1, 0, 1, 0, 1, 1, 0, 1, 1, 1, 1, 1, 1, 0, 1, 1])"
            ]
          },
          "execution_count": 51,
          "metadata": {},
          "output_type": "execute_result"
        }
      ],
      "source": [
        "y_test"
      ]
    },
    {
      "cell_type": "markdown",
      "metadata": {
        "id": "fIsccnwo1W4Z"
      },
      "source": [
        "## ROC dan AUC Scores"
      ]
    },
    {
      "cell_type": "code",
      "execution_count": 53,
      "metadata": {
        "colab": {
          "base_uri": "https://localhost:8080/",
          "height": 145
        },
        "execution": {
          "iopub.execute_input": "2022-09-02T10:41:53.066367Z",
          "iopub.status.busy": "2022-09-02T10:41:53.065852Z",
          "iopub.status.idle": "2022-09-02T10:41:53.380214Z",
          "shell.execute_reply": "2022-09-02T10:41:53.37903Z",
          "shell.execute_reply.started": "2022-09-02T10:41:53.066336Z"
        },
        "id": "CQhZdU031W4b",
        "outputId": "802c5f99-a465-41f2-b7fc-d27123abb724",
        "trusted": true
      },
      "outputs": [
        {
          "data": {
            "image/png": "[encoded data removed]",
            "text/plain": [
              "<Figure size 640x480 with 1 Axes>"
            ]
          },
          "metadata": {},
          "output_type": "display_data"
        }
      ],
      "source": [
        "RocCurveDisplay.from_estimator(gs_log_reg, X_test, y_test);"
      ]
    },
    {
      "cell_type": "markdown",
      "metadata": {
        "id": "FS978LBx1W4c"
      },
      "source": [
        "## Confusion Matrix"
      ]
    },
    {
      "cell_type": "code",
      "execution_count": 54,
      "metadata": {
        "colab": {
          "base_uri": "https://localhost:8080/"
        },
        "execution": {
          "iopub.execute_input": "2022-09-02T10:41:53.381849Z",
          "iopub.status.busy": "2022-09-02T10:41:53.381487Z",
          "iopub.status.idle": "2022-09-02T10:41:53.389329Z",
          "shell.execute_reply": "2022-09-02T10:41:53.388175Z",
          "shell.execute_reply.started": "2022-09-02T10:41:53.381818Z"
        },
        "id": "82a9MYAP1W4d",
        "outputId": "3722dfb3-b124-49d3-855a-ad0137d0ee97",
        "trusted": true
      },
      "outputs": [
        {
          "name": "stdout",
          "output_type": "stream",
          "text": [
            "[[20  2]\n",
            " [ 6 33]]\n"
          ]
        }
      ],
      "source": [
        "print(confusion_matrix(y_test, y_preds))"
      ]
    },
    {
      "cell_type": "code",
      "execution_count": 55,
      "metadata": {
        "colab": {
          "base_uri": "https://localhost:8080/",
          "height": 333
        },
        "execution": {
          "iopub.execute_input": "2022-09-02T10:41:53.391023Z",
          "iopub.status.busy": "2022-09-02T10:41:53.390648Z",
          "iopub.status.idle": "2022-09-02T10:41:53.508625Z",
          "shell.execute_reply": "2022-09-02T10:41:53.507681Z",
          "shell.execute_reply.started": "2022-09-02T10:41:53.390992Z"
        },
        "id": "1iO7SaAa1W4f",
        "outputId": "760da5a6-1198-4551-daa0-89357c58415d",
        "trusted": true
      },
      "outputs": [
        {
          "data": {
            "image/png": "[encoded data removed]",
            "text/plain": [
              "<Figure size 300x300 with 1 Axes>"
            ]
          },
          "metadata": {},
          "output_type": "display_data"
        }
      ],
      "source": [
        "sns.set(font_scale=1.5)\n",
        "\n",
        "def plot_conf_mat(y_test, y_preds):\n",
        "    \"\"\"\n",
        "    Plots a confusion matrix using Seaborn's heatmap().\n",
        "    \"\"\"\n",
        "    fig, ax = plt.subplots(figsize=(3, 3))\n",
        "    ax = sns.heatmap(confusion_matrix(y_test, y_preds),\n",
        "                     annot=True, # Annotate the boxes\n",
        "                     cbar=False)\n",
        "    plt.xlabel(\"true label\")\n",
        "    plt.ylabel(\"predicted label\")\n",
        "\n",
        "plot_conf_mat(y_test, y_preds)"
      ]
    },
    {
      "cell_type": "markdown",
      "metadata": {
        "id": "OWW3cITe1W4g"
      },
      "source": [
        "## Classification Report"
      ]
    },
    {
      "cell_type": "code",
      "execution_count": 56,
      "metadata": {
        "colab": {
          "base_uri": "https://localhost:8080/"
        },
        "execution": {
          "iopub.execute_input": "2022-09-02T10:41:53.511659Z",
          "iopub.status.busy": "2022-09-02T10:41:53.510281Z",
          "iopub.status.idle": "2022-09-02T10:41:53.527791Z",
          "shell.execute_reply": "2022-09-02T10:41:53.526209Z",
          "shell.execute_reply.started": "2022-09-02T10:41:53.511592Z"
        },
        "id": "GW6hROzR1W4g",
        "outputId": "ab230744-d9a1-4baf-8ad5-0fb4fbe2fc51",
        "trusted": true
      },
      "outputs": [
        {
          "name": "stdout",
          "output_type": "stream",
          "text": [
            "              precision    recall  f1-score   support\n",
            "\n",
            "           0       0.77      0.91      0.83        22\n",
            "           1       0.94      0.85      0.89        39\n",
            "\n",
            "    accuracy                           0.87        61\n",
            "   macro avg       0.86      0.88      0.86        61\n",
            "weighted avg       0.88      0.87      0.87        61\n",
            "\n"
          ]
        }
      ],
      "source": [
        "print(classification_report(y_test, y_preds))"
      ]
    },
    {
      "cell_type": "code",
      "execution_count": 57,
      "metadata": {
        "colab": {
          "base_uri": "https://localhost:8080/"
        },
        "execution": {
          "iopub.execute_input": "2022-09-02T10:41:53.53089Z",
          "iopub.status.busy": "2022-09-02T10:41:53.529795Z",
          "iopub.status.idle": "2022-09-02T10:41:53.541291Z",
          "shell.execute_reply": "2022-09-02T10:41:53.539728Z",
          "shell.execute_reply.started": "2022-09-02T10:41:53.530824Z"
        },
        "id": "XRhAuUmJ1W4g",
        "outputId": "8e60f9b7-bd59-4ba2-8b87-0df30435607b",
        "trusted": true
      },
      "outputs": [
        {
          "data": {
            "text/plain": [
              "{'C': np.float64(1.623776739188721), 'solver': 'liblinear'}"
            ]
          },
          "execution_count": 57,
          "metadata": {},
          "output_type": "execute_result"
        }
      ],
      "source": [
        "gs_log_reg.best_params_"
      ]
    },
    {
      "cell_type": "code",
      "execution_count": 58,
      "metadata": {
        "execution": {
          "iopub.execute_input": "2022-09-02T10:41:53.544138Z",
          "iopub.status.busy": "2022-09-02T10:41:53.543176Z",
          "iopub.status.idle": "2022-09-02T10:41:53.551395Z",
          "shell.execute_reply": "2022-09-02T10:41:53.550286Z",
          "shell.execute_reply.started": "2022-09-02T10:41:53.544105Z"
        },
        "id": "pwYy4uJp1W4h",
        "trusted": true
      },
      "outputs": [],
      "source": [
        "clf = LogisticRegression(C=1.623776739188721,\n",
        "                         solver=\"liblinear\")"
      ]
    },
    {
      "cell_type": "code",
      "execution_count": 59,
      "metadata": {
        "colab": {
          "base_uri": "https://localhost:8080/"
        },
        "execution": {
          "iopub.execute_input": "2022-09-02T10:41:53.552971Z",
          "iopub.status.busy": "2022-09-02T10:41:53.552626Z",
          "iopub.status.idle": "2022-09-02T10:41:53.59943Z",
          "shell.execute_reply": "2022-09-02T10:41:53.598259Z",
          "shell.execute_reply.started": "2022-09-02T10:41:53.552942Z"
        },
        "id": "GX0LNonw1W4i",
        "outputId": "1fd0b626-c427-4b94-c6fa-bdad0d8c7522",
        "trusted": true
      },
      "outputs": [
        {
          "data": {
            "text/plain": [
              "array([0.81967213, 0.86885246, 0.85245902, 0.85      , 0.71666667])"
            ]
          },
          "execution_count": 59,
          "metadata": {},
          "output_type": "execute_result"
        }
      ],
      "source": [
        "# Accuracy score\n",
        "cv_acc = cross_val_score(clf,\n",
        "                         X,\n",
        "                         y,\n",
        "                         cv=5, # 5-fold cross-validation\n",
        "                         scoring=\"accuracy\") # accuracy as scoring\n",
        "cv_acc"
      ]
    },
    {
      "cell_type": "code",
      "execution_count": 60,
      "metadata": {
        "colab": {
          "base_uri": "https://localhost:8080/"
        },
        "execution": {
          "iopub.execute_input": "2022-09-02T10:41:53.601585Z",
          "iopub.status.busy": "2022-09-02T10:41:53.600865Z",
          "iopub.status.idle": "2022-09-02T10:41:53.607645Z",
          "shell.execute_reply": "2022-09-02T10:41:53.606802Z",
          "shell.execute_reply.started": "2022-09-02T10:41:53.601552Z"
        },
        "id": "Zv5OWZzG1W4i",
        "outputId": "562301af-269c-4451-9047-001ccc6627f8",
        "trusted": true
      },
      "outputs": [
        {
          "data": {
            "text/plain": [
              "np.float64(0.8215300546448088)"
            ]
          },
          "execution_count": 60,
          "metadata": {},
          "output_type": "execute_result"
        }
      ],
      "source": [
        "cv_acc = np.mean(cv_acc)\n",
        "cv_acc"
      ]
    },
    {
      "cell_type": "code",
      "execution_count": 61,
      "metadata": {
        "colab": {
          "base_uri": "https://localhost:8080/"
        },
        "execution": {
          "iopub.execute_input": "2022-09-02T10:41:53.609649Z",
          "iopub.status.busy": "2022-09-02T10:41:53.608687Z",
          "iopub.status.idle": "2022-09-02T10:41:53.658573Z",
          "shell.execute_reply": "2022-09-02T10:41:53.657458Z",
          "shell.execute_reply.started": "2022-09-02T10:41:53.609614Z"
        },
        "id": "L8pzGyhB1W4i",
        "outputId": "faf61767-40f2-4c9c-f8f3-a4a8fd466858",
        "trusted": true
      },
      "outputs": [
        {
          "data": {
            "text/plain": [
              "np.float64(0.817900063251107)"
            ]
          },
          "execution_count": 61,
          "metadata": {},
          "output_type": "execute_result"
        }
      ],
      "source": [
        "# Precision score\n",
        "cv_precision = np.mean(cross_val_score(clf,\n",
        "                                       X,\n",
        "                                       y,\n",
        "                                       cv=5, # 5-fold cross-validation\n",
        "                                       scoring=\"precision\")) # precision as scoring\n",
        "cv_precision"
      ]
    },
    {
      "cell_type": "code",
      "execution_count": 62,
      "metadata": {
        "colab": {
          "base_uri": "https://localhost:8080/"
        },
        "execution": {
          "iopub.execute_input": "2022-09-02T10:41:53.666315Z",
          "iopub.status.busy": "2022-09-02T10:41:53.665939Z",
          "iopub.status.idle": "2022-09-02T10:41:53.710382Z",
          "shell.execute_reply": "2022-09-02T10:41:53.709095Z",
          "shell.execute_reply.started": "2022-09-02T10:41:53.666282Z"
        },
        "id": "9ESntxGY1W4j",
        "outputId": "aa304c23-51a3-4944-dbfd-1bd5fc2f9a4d",
        "trusted": true
      },
      "outputs": [
        {
          "data": {
            "text/plain": [
              "np.float64(0.8727272727272727)"
            ]
          },
          "execution_count": 62,
          "metadata": {},
          "output_type": "execute_result"
        }
      ],
      "source": [
        "# Recall score\n",
        "cv_recall = np.mean(cross_val_score(clf,\n",
        "                                    X,\n",
        "                                    y,\n",
        "                                    cv=5, # 5-fold cross-validation\n",
        "                                    scoring=\"recall\")) # recall as scoring\n",
        "cv_recall"
      ]
    },
    {
      "cell_type": "code",
      "execution_count": 63,
      "metadata": {
        "colab": {
          "base_uri": "https://localhost:8080/"
        },
        "execution": {
          "iopub.execute_input": "2022-09-02T10:41:53.712827Z",
          "iopub.status.busy": "2022-09-02T10:41:53.712066Z",
          "iopub.status.idle": "2022-09-02T10:41:53.758925Z",
          "shell.execute_reply": "2022-09-02T10:41:53.75757Z",
          "shell.execute_reply.started": "2022-09-02T10:41:53.712784Z"
        },
        "id": "ZKQsdmw91W4j",
        "outputId": "c565a0f6-b750-4cd7-bf36-bd176645f778",
        "trusted": true
      },
      "outputs": [
        {
          "data": {
            "text/plain": [
              "np.float64(0.8431741323998502)"
            ]
          },
          "execution_count": 63,
          "metadata": {},
          "output_type": "execute_result"
        }
      ],
      "source": [
        "# F1 score\n",
        "cv_f1 = np.mean(cross_val_score(clf,\n",
        "                                X,\n",
        "                                y,\n",
        "                                cv=5, # 5-fold cross-validation\n",
        "                                scoring=\"f1\")) # f1 as scoring\n",
        "cv_f1"
      ]
    },
    {
      "cell_type": "code",
      "execution_count": 64,
      "metadata": {
        "colab": {
          "base_uri": "https://localhost:8080/",
          "height": 551
        },
        "execution": {
          "iopub.execute_input": "2022-09-02T10:41:53.760372Z",
          "iopub.status.busy": "2022-09-02T10:41:53.760054Z",
          "iopub.status.idle": "2022-09-02T10:41:53.985342Z",
          "shell.execute_reply": "2022-09-02T10:41:53.984425Z",
          "shell.execute_reply.started": "2022-09-02T10:41:53.760345Z"
        },
        "id": "O-77Xgnl1W4j",
        "outputId": "5bbdb1bb-a333-4466-8d39-64f51f5ae3cd",
        "trusted": true
      },
      "outputs": [
        {
          "data": {
            "image/png": "[encoded data removed]",
            "text/plain": [
              "<Figure size 640x480 with 1 Axes>"
            ]
          },
          "metadata": {},
          "output_type": "display_data"
        }
      ],
      "source": [
        "# Visualizing\n",
        "cv_metrics = pd.DataFrame({\"Accuracy\": cv_acc,\n",
        "                            \"Precision\": cv_precision,\n",
        "                            \"Recall\": cv_recall,\n",
        "                            \"F1\": cv_f1},\n",
        "                            index=[0])\n",
        "cv_metrics.T.plot.bar(title=\"Cross-Validated Metrics\", legend=False);"
      ]
    }
  ],
  "metadata": {
    "colab": {
      "name": "Klasifikasi Penyakit Jantung",
      "provenance": []
    },
    "kernelspec": {
      "display_name": "Python 3",
      "language": "python",
      "name": "python3"
    },
    "language_info": {
      "codemirror_mode": {
        "name": "ipython",
        "version": 3
      },
      "file_extension": ".py",
      "mimetype": "text/x-python",
      "name": "python",
      "nbconvert_exporter": "python",
      "pygments_lexer": "ipython3",
      "version": "3.10.11"
    },
    "vscode": {
      "interpreter": {
        "hash": "486e0d5a79acdbfffd563ee7a67a93a5017bd2a4f66495483a69f0245c8a4a6c"
      }
    }
  },
  "nbformat": 4,
  "nbformat_minor": 0
}
